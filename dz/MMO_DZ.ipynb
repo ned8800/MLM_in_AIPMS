{
  "nbformat": 4,
  "nbformat_minor": 0,
  "metadata": {
    "colab": {
      "name": "MMO DZ.ipynb",
      "provenance": []
    },
    "kernelspec": {
      "name": "python3",
      "display_name": "Python 3"
    },
    "language_info": {
      "name": "python"
    }
  },
  "cells": [
    {
      "cell_type": "code",
      "metadata": {
        "colab": {
          "base_uri": "https://localhost:8080/",
          "height": 0
        },
        "id": "HUA4D-TtGwR3",
        "outputId": "4cfaa7fc-59d3-48d9-c897-3ba621227686"
      },
      "source": [
        "!pip install numpy pandas scikit-surprise sklearn seaborn matplotlib automl mljar-supervised"
      ],
      "execution_count": 7,
      "outputs": [
        {
          "output_type": "stream",
          "text": [
            "Requirement already satisfied: numpy in /usr/local/lib/python3.7/dist-packages (1.19.5)\n",
            "Requirement already satisfied: pandas in /usr/local/lib/python3.7/dist-packages (1.1.5)\n",
            "Requirement already satisfied: scikit-surprise in /usr/local/lib/python3.7/dist-packages (1.1.1)\n",
            "Requirement already satisfied: sklearn in /usr/local/lib/python3.7/dist-packages (0.0)\n",
            "Requirement already satisfied: seaborn in /usr/local/lib/python3.7/dist-packages (0.11.1)\n",
            "Requirement already satisfied: matplotlib in /usr/local/lib/python3.7/dist-packages (3.2.2)\n",
            "Requirement already satisfied: automl in /usr/local/lib/python3.7/dist-packages (2.9.9)\n",
            "Collecting mljar-supervised\n",
            "\u001b[?25l  Downloading https://files.pythonhosted.org/packages/0b/45/878916fb350cbe08ce51365305c54ee56e253c7be7979e0a18d753ebbb84/mljar-supervised-0.10.4.tar.gz (109kB)\n",
            "\u001b[K     |████████████████████████████████| 112kB 29.5MB/s \n",
            "\u001b[?25hRequirement already satisfied: python-dateutil>=2.7.3 in /usr/local/lib/python3.7/dist-packages (from pandas) (2.8.1)\n",
            "Requirement already satisfied: pytz>=2017.2 in /usr/local/lib/python3.7/dist-packages (from pandas) (2018.9)\n",
            "Requirement already satisfied: six>=1.10.0 in /usr/local/lib/python3.7/dist-packages (from scikit-surprise) (1.15.0)\n",
            "Requirement already satisfied: scipy>=1.0.0 in /usr/local/lib/python3.7/dist-packages (from scikit-surprise) (1.4.1)\n",
            "Requirement already satisfied: joblib>=0.11 in /usr/local/lib/python3.7/dist-packages (from scikit-surprise) (1.0.1)\n",
            "Requirement already satisfied: scikit-learn in /usr/local/lib/python3.7/dist-packages (from sklearn) (0.22.2.post1)\n",
            "Requirement already satisfied: pyparsing!=2.0.4,!=2.1.2,!=2.1.6,>=2.0.1 in /usr/local/lib/python3.7/dist-packages (from matplotlib) (2.4.7)\n",
            "Requirement already satisfied: kiwisolver>=1.0.1 in /usr/local/lib/python3.7/dist-packages (from matplotlib) (1.3.1)\n",
            "Requirement already satisfied: cycler>=0.10 in /usr/local/lib/python3.7/dist-packages (from matplotlib) (0.10.0)\n",
            "Requirement already satisfied: dill<0.3,>=0.2.5 in /usr/local/lib/python3.7/dist-packages (from automl) (0.2.9)\n",
            "Requirement already satisfied: lightgbm<2.1,>=2.0.11 in /usr/local/lib/python3.7/dist-packages (from automl) (2.0.12)\n",
            "Requirement already satisfied: sklearn-deap2<0.3,>=0.2.1 in /usr/local/lib/python3.7/dist-packages (from automl) (0.2.2)\n",
            "Requirement already satisfied: h5py<3.0,>=2.7.0 in /usr/local/lib/python3.7/dist-packages (from automl) (2.10.0)\n",
            "Requirement already satisfied: pathos<0.3.0,>=0.2.1 in /usr/local/lib/python3.7/dist-packages (from automl) (0.2.7)\n",
            "Requirement already satisfied: tabulate<1.0,>=0.7.5 in /usr/local/lib/python3.7/dist-packages (from automl) (0.8.9)\n",
            "Collecting xgboost==1.3.3\n",
            "\u001b[?25l  Downloading https://files.pythonhosted.org/packages/2e/57/bf5026701c384decd2b995eb39d86587a103ba4eb26f8a9b1811db0896d3/xgboost-1.3.3-py3-none-manylinux2010_x86_64.whl (157.5MB)\n",
            "\u001b[K     |████████████████████████████████| 157.5MB 83kB/s \n",
            "\u001b[?25hCollecting catboost==0.24.4\n",
            "\u001b[?25l  Downloading https://files.pythonhosted.org/packages/96/3b/bb419654adcf7efff42ed8a3f84e50c8f236424b7ed1cc8ccd290852e003/catboost-0.24.4-cp37-none-manylinux1_x86_64.whl (65.7MB)\n",
            "\u001b[K     |████████████████████████████████| 65.7MB 61kB/s \n",
            "\u001b[?25hRequirement already satisfied: cloudpickle==1.3.0 in /usr/local/lib/python3.7/dist-packages (from mljar-supervised) (1.3.0)\n",
            "Requirement already satisfied: pyarrow>=2.0.0 in /usr/local/lib/python3.7/dist-packages (from mljar-supervised) (3.0.0)\n",
            "Collecting dtreeviz==1.3\n",
            "\u001b[?25l  Downloading https://files.pythonhosted.org/packages/35/95/f54aa86548a549da2a6b4159e1d2801b74bf27e01b669e50f3bf26ce30b8/dtreeviz-1.3.tar.gz (60kB)\n",
            "\u001b[K     |████████████████████████████████| 61kB 8.1MB/s \n",
            "\u001b[?25hCollecting shap==0.36.0\n",
            "\u001b[?25l  Downloading https://files.pythonhosted.org/packages/d2/17/37ee6c79cafbd9bb7423b54e55ea90beec66aa7638664d607bcc28de0bae/shap-0.36.0.tar.gz (319kB)\n",
            "\u001b[K     |████████████████████████████████| 327kB 44.7MB/s \n",
            "\u001b[?25hCollecting wordcloud==1.8.1\n",
            "\u001b[?25l  Downloading https://files.pythonhosted.org/packages/1b/06/0516bdba2ebdc0d5bd476aa66f94666dd0ad6b9abda723fdf28e451db919/wordcloud-1.8.1-cp37-cp37m-manylinux1_x86_64.whl (366kB)\n",
            "\u001b[K     |████████████████████████████████| 368kB 41.6MB/s \n",
            "\u001b[?25hCollecting category_encoders==2.2.2\n",
            "\u001b[?25l  Downloading https://files.pythonhosted.org/packages/44/57/fcef41c248701ee62e8325026b90c432adea35555cbc870aff9cfba23727/category_encoders-2.2.2-py2.py3-none-any.whl (80kB)\n",
            "\u001b[K     |████████████████████████████████| 81kB 9.3MB/s \n",
            "\u001b[?25hCollecting optuna==2.7.0\n",
            "\u001b[?25l  Downloading https://files.pythonhosted.org/packages/2b/21/d13081805e1e1afc71f5bb743ece324c8bd576237c51b899ecb38a717502/optuna-2.7.0-py3-none-any.whl (293kB)\n",
            "\u001b[K     |████████████████████████████████| 296kB 37.9MB/s \n",
            "\u001b[?25hCollecting scikit-plot==0.3.7\n",
            "  Downloading https://files.pythonhosted.org/packages/7c/47/32520e259340c140a4ad27c1b97050dd3254fdc517b1d59974d47037510e/scikit_plot-0.3.7-py3-none-any.whl\n",
            "Requirement already satisfied: markdown in /usr/local/lib/python3.7/dist-packages (from mljar-supervised) (3.3.4)\n",
            "Requirement already satisfied: deap>=1.0.2 in /usr/local/lib/python3.7/dist-packages (from sklearn-deap2<0.3,>=0.2.1->automl) (1.3.1)\n",
            "Requirement already satisfied: multiprocess>=0.70.11 in /usr/local/lib/python3.7/dist-packages (from pathos<0.3.0,>=0.2.1->automl) (0.70.11.1)\n",
            "Requirement already satisfied: ppft>=1.6.6.3 in /usr/local/lib/python3.7/dist-packages (from pathos<0.3.0,>=0.2.1->automl) (1.6.6.3)\n",
            "Requirement already satisfied: pox>=0.2.9 in /usr/local/lib/python3.7/dist-packages (from pathos<0.3.0,>=0.2.1->automl) (0.2.9)\n",
            "Requirement already satisfied: graphviz in /usr/local/lib/python3.7/dist-packages (from catboost==0.24.4->mljar-supervised) (0.10.1)\n",
            "Requirement already satisfied: plotly in /usr/local/lib/python3.7/dist-packages (from catboost==0.24.4->mljar-supervised) (4.4.1)\n",
            "Collecting colour\n",
            "  Downloading https://files.pythonhosted.org/packages/74/46/e81907704ab203206769dee1385dc77e1407576ff8f50a0681d0a6b541be/colour-0.1.5-py2.py3-none-any.whl\n",
            "Requirement already satisfied: pytest in /usr/local/lib/python3.7/dist-packages (from dtreeviz==1.3->mljar-supervised) (3.6.4)\n",
            "Requirement already satisfied: tqdm>4.25.0 in /usr/local/lib/python3.7/dist-packages (from shap==0.36.0->mljar-supervised) (4.41.1)\n",
            "Collecting slicer\n",
            "  Downloading https://files.pythonhosted.org/packages/78/c2/b3f55dfdb8af9812fdb9baf70cacf3b9e82e505b2bd4324d588888b81202/slicer-0.0.7-py3-none-any.whl\n",
            "Requirement already satisfied: numba in /usr/local/lib/python3.7/dist-packages (from shap==0.36.0->mljar-supervised) (0.51.2)\n",
            "Requirement already satisfied: pillow in /usr/local/lib/python3.7/dist-packages (from wordcloud==1.8.1->mljar-supervised) (7.1.2)\n",
            "Requirement already satisfied: patsy>=0.5.1 in /usr/local/lib/python3.7/dist-packages (from category_encoders==2.2.2->mljar-supervised) (0.5.1)\n",
            "Requirement already satisfied: statsmodels>=0.9.0 in /usr/local/lib/python3.7/dist-packages (from category_encoders==2.2.2->mljar-supervised) (0.10.2)\n",
            "Collecting colorlog\n",
            "  Downloading https://files.pythonhosted.org/packages/32/e6/e9ddc6fa1104fda718338b341e4b3dc31cd8039ab29e52fc73b508515361/colorlog-5.0.1-py2.py3-none-any.whl\n",
            "Requirement already satisfied: packaging>=20.0 in /usr/local/lib/python3.7/dist-packages (from optuna==2.7.0->mljar-supervised) (20.9)\n",
            "Collecting alembic\n",
            "\u001b[?25l  Downloading https://files.pythonhosted.org/packages/d5/80/ef186e599a57d0e4cb78fc76e0bfc2e6953fa9716b2a5cf2de0117ed8eb5/alembic-1.6.5-py2.py3-none-any.whl (164kB)\n",
            "\u001b[K     |████████████████████████████████| 174kB 39.8MB/s \n",
            "\u001b[?25hCollecting cliff\n",
            "\u001b[?25l  Downloading https://files.pythonhosted.org/packages/87/11/aea1cacbd4cf8262809c4d6f95dcb3f2802594de1f51c5bd454d69bf15c5/cliff-3.8.0-py3-none-any.whl (80kB)\n",
            "\u001b[K     |████████████████████████████████| 81kB 10.0MB/s \n",
            "\u001b[?25hCollecting cmaes>=0.8.2\n",
            "  Downloading https://files.pythonhosted.org/packages/01/1f/43b01223a0366171f474320c6e966c39a11587287f098a5f09809b45e05f/cmaes-0.8.2-py3-none-any.whl\n",
            "Requirement already satisfied: sqlalchemy>=1.1.0 in /usr/local/lib/python3.7/dist-packages (from optuna==2.7.0->mljar-supervised) (1.4.15)\n",
            "Requirement already satisfied: importlib-metadata; python_version < \"3.8\" in /usr/local/lib/python3.7/dist-packages (from markdown->mljar-supervised) (4.0.1)\n",
            "Requirement already satisfied: retrying>=1.3.3 in /usr/local/lib/python3.7/dist-packages (from plotly->catboost==0.24.4->mljar-supervised) (1.3.3)\n",
            "Requirement already satisfied: attrs>=17.4.0 in /usr/local/lib/python3.7/dist-packages (from pytest->dtreeviz==1.3->mljar-supervised) (21.2.0)\n",
            "Requirement already satisfied: py>=1.5.0 in /usr/local/lib/python3.7/dist-packages (from pytest->dtreeviz==1.3->mljar-supervised) (1.10.0)\n",
            "Requirement already satisfied: setuptools in /usr/local/lib/python3.7/dist-packages (from pytest->dtreeviz==1.3->mljar-supervised) (56.1.0)\n",
            "Requirement already satisfied: pluggy<0.8,>=0.5 in /usr/local/lib/python3.7/dist-packages (from pytest->dtreeviz==1.3->mljar-supervised) (0.7.1)\n",
            "Requirement already satisfied: atomicwrites>=1.0 in /usr/local/lib/python3.7/dist-packages (from pytest->dtreeviz==1.3->mljar-supervised) (1.4.0)\n",
            "Requirement already satisfied: more-itertools>=4.0.0 in /usr/local/lib/python3.7/dist-packages (from pytest->dtreeviz==1.3->mljar-supervised) (8.7.0)\n",
            "Requirement already satisfied: llvmlite<0.35,>=0.34.0.dev0 in /usr/local/lib/python3.7/dist-packages (from numba->shap==0.36.0->mljar-supervised) (0.34.0)\n",
            "Collecting python-editor>=0.3\n",
            "  Downloading https://files.pythonhosted.org/packages/c6/d3/201fc3abe391bbae6606e6f1d598c15d367033332bd54352b12f35513717/python_editor-1.0.4-py3-none-any.whl\n",
            "Collecting Mako\n",
            "\u001b[?25l  Downloading https://files.pythonhosted.org/packages/f3/54/dbc07fbb20865d3b78fdb7cf7fa713e2cba4f87f71100074ef2dc9f9d1f7/Mako-1.1.4-py2.py3-none-any.whl (75kB)\n",
            "\u001b[K     |████████████████████████████████| 81kB 8.8MB/s \n",
            "\u001b[?25hRequirement already satisfied: PrettyTable>=0.7.2 in /usr/local/lib/python3.7/dist-packages (from cliff->optuna==2.7.0->mljar-supervised) (2.1.0)\n",
            "Collecting stevedore>=2.0.1\n",
            "\u001b[?25l  Downloading https://files.pythonhosted.org/packages/d4/49/b602307aeac3df3384ff1fcd05da9c0376c622a6c48bb5325f28ab165b57/stevedore-3.3.0-py3-none-any.whl (49kB)\n",
            "\u001b[K     |████████████████████████████████| 51kB 5.4MB/s \n",
            "\u001b[?25hRequirement already satisfied: PyYAML>=3.12 in /usr/local/lib/python3.7/dist-packages (from cliff->optuna==2.7.0->mljar-supervised) (3.13)\n",
            "Collecting pbr!=2.1.0,>=2.0.0\n",
            "\u001b[?25l  Downloading https://files.pythonhosted.org/packages/18/e0/1d4702dd81121d04a477c272d47ee5b6bc970d1a0990b11befa275c55cf2/pbr-5.6.0-py2.py3-none-any.whl (111kB)\n",
            "\u001b[K     |████████████████████████████████| 112kB 45.7MB/s \n",
            "\u001b[?25hCollecting cmd2>=1.0.0\n",
            "\u001b[?25l  Downloading https://files.pythonhosted.org/packages/15/8b/15061b32332bb35ea2a2f6263d0f616779d576e82739ec8e7fcf3c94abf5/cmd2-1.5.0-py3-none-any.whl (133kB)\n",
            "\u001b[K     |████████████████████████████████| 143kB 32.5MB/s \n",
            "\u001b[?25hRequirement already satisfied: greenlet!=0.4.17; python_version >= \"3\" in /usr/local/lib/python3.7/dist-packages (from sqlalchemy>=1.1.0->optuna==2.7.0->mljar-supervised) (1.1.0)\n",
            "Requirement already satisfied: typing-extensions>=3.6.4; python_version < \"3.8\" in /usr/local/lib/python3.7/dist-packages (from importlib-metadata; python_version < \"3.8\"->markdown->mljar-supervised) (3.7.4.3)\n",
            "Requirement already satisfied: zipp>=0.5 in /usr/local/lib/python3.7/dist-packages (from importlib-metadata; python_version < \"3.8\"->markdown->mljar-supervised) (3.4.1)\n",
            "Requirement already satisfied: MarkupSafe>=0.9.2 in /usr/local/lib/python3.7/dist-packages (from Mako->alembic->optuna==2.7.0->mljar-supervised) (2.0.1)\n",
            "Requirement already satisfied: wcwidth in /usr/local/lib/python3.7/dist-packages (from PrettyTable>=0.7.2->cliff->optuna==2.7.0->mljar-supervised) (0.2.5)\n",
            "Collecting colorama>=0.3.7\n",
            "  Downloading https://files.pythonhosted.org/packages/44/98/5b86278fbbf250d239ae0ecb724f8572af1c91f4a11edf4d36a206189440/colorama-0.4.4-py2.py3-none-any.whl\n",
            "Collecting pyperclip>=1.6\n",
            "  Downloading https://files.pythonhosted.org/packages/a7/2c/4c64579f847bd5d539803c8b909e54ba087a79d01bb3aba433a95879a6c5/pyperclip-1.8.2.tar.gz\n",
            "Building wheels for collected packages: mljar-supervised, dtreeviz, shap, pyperclip\n",
            "  Building wheel for mljar-supervised (setup.py) ... \u001b[?25l\u001b[?25hdone\n",
            "  Created wheel for mljar-supervised: filename=mljar_supervised-0.10.4-cp37-none-any.whl size=143914 sha256=39469a96ac4ec584137d0506ad180675ad4e5f54f2e8f177fc4e14cfa15ccbb4\n",
            "  Stored in directory: /root/.cache/pip/wheels/a3/ea/35/583dcb9528d9a561e490f431abea5a7882cfcd83831abc7832\n",
            "  Building wheel for dtreeviz (setup.py) ... \u001b[?25l\u001b[?25hdone\n",
            "  Created wheel for dtreeviz: filename=dtreeviz-1.3-cp37-none-any.whl size=66642 sha256=efef3c6bbdc788715c5353619b2eb4673ef1c83fc2f9c8687c7fa8287d17f165\n",
            "  Stored in directory: /root/.cache/pip/wheels/60/36/b1/188ee35c677e48463f6482d580f81c19f5f82ae5adbe293fd8\n",
            "  Building wheel for shap (setup.py) ... \u001b[?25l\u001b[?25hdone\n",
            "  Created wheel for shap: filename=shap-0.36.0-cp37-cp37m-linux_x86_64.whl size=457597 sha256=81f5286c945f876e9dd0c2542e040e3ddb08ca08d8274d43e9268fda3eae9512\n",
            "  Stored in directory: /root/.cache/pip/wheels/fb/15/e1/8f61106790da27e0765aaa6e664550ca2c50ea339099e799f4\n",
            "  Building wheel for pyperclip (setup.py) ... \u001b[?25l\u001b[?25hdone\n",
            "  Created wheel for pyperclip: filename=pyperclip-1.8.2-cp37-none-any.whl size=11107 sha256=9c7a24535678dada44fe76da250e5c106ffed82ad2d77e17d690d8d68cc05a64\n",
            "  Stored in directory: /root/.cache/pip/wheels/25/af/b8/3407109267803f4015e1ee2ff23be0c8c19ce4008665931ee1\n",
            "Successfully built mljar-supervised dtreeviz shap pyperclip\n",
            "\u001b[31mERROR: mljar-supervised 0.10.4 has requirement lightgbm==3.0.0, but you'll have lightgbm 2.0.12 which is incompatible.\u001b[0m\n",
            "\u001b[31mERROR: mljar-supervised 0.10.4 has requirement numpy>=1.20.0, but you'll have numpy 1.19.5 which is incompatible.\u001b[0m\n",
            "\u001b[31mERROR: mljar-supervised 0.10.4 has requirement pandas==1.2.0, but you'll have pandas 1.1.5 which is incompatible.\u001b[0m\n",
            "\u001b[31mERROR: mljar-supervised 0.10.4 has requirement scikit-learn==0.24.2, but you'll have scikit-learn 0.22.2.post1 which is incompatible.\u001b[0m\n",
            "\u001b[31mERROR: mljar-supervised 0.10.4 has requirement scipy==1.6.1, but you'll have scipy 1.4.1 which is incompatible.\u001b[0m\n",
            "\u001b[31mERROR: mljar-supervised 0.10.4 has requirement tabulate==0.8.7, but you'll have tabulate 0.8.9 which is incompatible.\u001b[0m\n",
            "Installing collected packages: xgboost, catboost, colour, dtreeviz, slicer, shap, wordcloud, category-encoders, colorlog, python-editor, Mako, alembic, pbr, stevedore, colorama, pyperclip, cmd2, cliff, cmaes, optuna, scikit-plot, mljar-supervised\n",
            "  Found existing installation: xgboost 0.90\n",
            "    Uninstalling xgboost-0.90:\n",
            "      Successfully uninstalled xgboost-0.90\n",
            "  Found existing installation: wordcloud 1.5.0\n",
            "    Uninstalling wordcloud-1.5.0:\n",
            "      Successfully uninstalled wordcloud-1.5.0\n",
            "Successfully installed Mako-1.1.4 alembic-1.6.5 catboost-0.24.4 category-encoders-2.2.2 cliff-3.8.0 cmaes-0.8.2 cmd2-1.5.0 colorama-0.4.4 colorlog-5.0.1 colour-0.1.5 dtreeviz-1.3 mljar-supervised-0.10.4 optuna-2.7.0 pbr-5.6.0 pyperclip-1.8.2 python-editor-1.0.4 scikit-plot-0.3.7 shap-0.36.0 slicer-0.0.7 stevedore-3.3.0 wordcloud-1.8.1 xgboost-1.3.3\n"
          ],
          "name": "stdout"
        }
      ]
    },
    {
      "cell_type": "code",
      "metadata": {
        "colab": {
          "base_uri": "https://localhost:8080/",
          "height": 978
        },
        "id": "VLbSjJxi60Yb",
        "outputId": "e5946502-0bae-445a-cb92-40becca1d188"
      },
      "source": [
        "!pip install --upgrade numpy\n",
        "!pip install --upgrade pandas\n",
        "!pip install --upgrade lightgbm\n",
        "!pip install --upgrade scikit-learn\n",
        "!pip install --upgrade scipy\n",
        "!pip install --upgrade tabulate\n"
      ],
      "execution_count": 2,
      "outputs": [
        {
          "output_type": "stream",
          "text": [
            "Requirement already up-to-date: numpy in /usr/local/lib/python3.7/dist-packages (1.20.3)\n",
            "Collecting pandas\n",
            "\u001b[?25l  Downloading https://files.pythonhosted.org/packages/51/51/48f3fc47c4e2144da2806dfb6629c4dd1fa3d5a143f9652b141e979a8ca9/pandas-1.2.4-cp37-cp37m-manylinux1_x86_64.whl (9.9MB)\n",
            "\u001b[K     |████████████████████████████████| 9.9MB 5.1MB/s \n",
            "\u001b[?25hRequirement already satisfied, skipping upgrade: python-dateutil>=2.7.3 in /usr/local/lib/python3.7/dist-packages (from pandas) (2.8.1)\n",
            "Requirement already satisfied, skipping upgrade: numpy>=1.16.5 in /usr/local/lib/python3.7/dist-packages (from pandas) (1.20.3)\n",
            "Requirement already satisfied, skipping upgrade: pytz>=2017.3 in /usr/local/lib/python3.7/dist-packages (from pandas) (2018.9)\n",
            "Requirement already satisfied, skipping upgrade: six>=1.5 in /usr/local/lib/python3.7/dist-packages (from python-dateutil>=2.7.3->pandas) (1.15.0)\n",
            "\u001b[31mERROR: google-colab 1.0.0 has requirement pandas~=1.1.0; python_version >= \"3.0\", but you'll have pandas 1.2.4 which is incompatible.\u001b[0m\n",
            "Installing collected packages: pandas\n",
            "  Found existing installation: pandas 1.1.5\n",
            "    Uninstalling pandas-1.1.5:\n",
            "      Successfully uninstalled pandas-1.1.5\n",
            "Successfully installed pandas-1.2.4\n"
          ],
          "name": "stdout"
        },
        {
          "output_type": "display_data",
          "data": {
            "application/vnd.colab-display-data+json": {
              "pip_warning": {
                "packages": [
                  "pandas"
                ]
              }
            }
          },
          "metadata": {
            "tags": []
          }
        },
        {
          "output_type": "stream",
          "text": [
            "Collecting lightgbm\n",
            "\u001b[?25l  Downloading https://files.pythonhosted.org/packages/18/b2/fff8370f48549ce223f929fe8cab4ee6bf285a41f86037d91312b48ed95b/lightgbm-3.2.1-py3-none-manylinux1_x86_64.whl (2.0MB)\n",
            "\u001b[K     |████████████████████████████████| 2.0MB 6.6MB/s \n",
            "\u001b[?25hRequirement already satisfied, skipping upgrade: wheel in /usr/local/lib/python3.7/dist-packages (from lightgbm) (0.36.2)\n",
            "Requirement already satisfied, skipping upgrade: scikit-learn!=0.22.0 in /usr/local/lib/python3.7/dist-packages (from lightgbm) (0.22.2.post1)\n",
            "Requirement already satisfied, skipping upgrade: numpy in /usr/local/lib/python3.7/dist-packages (from lightgbm) (1.20.3)\n",
            "Requirement already satisfied, skipping upgrade: scipy in /usr/local/lib/python3.7/dist-packages (from lightgbm) (1.4.1)\n",
            "Requirement already satisfied, skipping upgrade: joblib>=0.11 in /usr/local/lib/python3.7/dist-packages (from scikit-learn!=0.22.0->lightgbm) (1.0.1)\n",
            "Installing collected packages: lightgbm\n",
            "  Found existing installation: lightgbm 2.2.3\n",
            "    Uninstalling lightgbm-2.2.3:\n",
            "      Successfully uninstalled lightgbm-2.2.3\n",
            "Successfully installed lightgbm-3.2.1\n",
            "Collecting scikit-learn\n",
            "\u001b[?25l  Downloading https://files.pythonhosted.org/packages/a8/eb/a48f25c967526b66d5f1fa7a984594f0bf0a5afafa94a8c4dbc317744620/scikit_learn-0.24.2-cp37-cp37m-manylinux2010_x86_64.whl (22.3MB)\n",
            "\u001b[K     |████████████████████████████████| 22.3MB 59.8MB/s \n",
            "\u001b[?25hRequirement already satisfied, skipping upgrade: joblib>=0.11 in /usr/local/lib/python3.7/dist-packages (from scikit-learn) (1.0.1)\n",
            "Collecting threadpoolctl>=2.0.0\n",
            "  Downloading https://files.pythonhosted.org/packages/f7/12/ec3f2e203afa394a149911729357aa48affc59c20e2c1c8297a60f33f133/threadpoolctl-2.1.0-py3-none-any.whl\n",
            "Requirement already satisfied, skipping upgrade: scipy>=0.19.1 in /usr/local/lib/python3.7/dist-packages (from scikit-learn) (1.4.1)\n",
            "Requirement already satisfied, skipping upgrade: numpy>=1.13.3 in /usr/local/lib/python3.7/dist-packages (from scikit-learn) (1.20.3)\n",
            "Installing collected packages: threadpoolctl, scikit-learn\n",
            "  Found existing installation: scikit-learn 0.22.2.post1\n",
            "    Uninstalling scikit-learn-0.22.2.post1:\n",
            "      Successfully uninstalled scikit-learn-0.22.2.post1\n",
            "Successfully installed scikit-learn-0.24.2 threadpoolctl-2.1.0\n",
            "Collecting scipy\n",
            "\u001b[?25l  Downloading https://files.pythonhosted.org/packages/7d/e8/43ffca541d2f208d516296950b25fe1084b35c2881f4d444c1346ca75815/scipy-1.6.3-cp37-cp37m-manylinux1_x86_64.whl (27.4MB)\n",
            "\u001b[K     |████████████████████████████████| 27.4MB 163kB/s \n",
            "\u001b[?25hRequirement already satisfied, skipping upgrade: numpy<1.23.0,>=1.16.5 in /usr/local/lib/python3.7/dist-packages (from scipy) (1.20.3)\n",
            "\u001b[31mERROR: albumentations 0.1.12 has requirement imgaug<0.2.7,>=0.2.5, but you'll have imgaug 0.2.9 which is incompatible.\u001b[0m\n",
            "Installing collected packages: scipy\n",
            "  Found existing installation: scipy 1.4.1\n",
            "    Uninstalling scipy-1.4.1:\n",
            "      Successfully uninstalled scipy-1.4.1\n",
            "Successfully installed scipy-1.6.3\n",
            "Requirement already up-to-date: tabulate in /usr/local/lib/python3.7/dist-packages (0.8.9)\n"
          ],
          "name": "stdout"
        }
      ]
    },
    {
      "cell_type": "code",
      "metadata": {
        "colab": {
          "base_uri": "https://localhost:8080/",
          "height": 2574
        },
        "id": "qgwO444I7lcM",
        "outputId": "b39f7dd6-1ae6-4372-c566-165c419323d4"
      },
      "source": [
        "!pip install mljar-supervised"
      ],
      "execution_count": 3,
      "outputs": [
        {
          "output_type": "stream",
          "text": [
            "Collecting mljar-supervised\n",
            "\u001b[?25l  Downloading https://files.pythonhosted.org/packages/0b/45/878916fb350cbe08ce51365305c54ee56e253c7be7979e0a18d753ebbb84/mljar-supervised-0.10.4.tar.gz (109kB)\n",
            "\r\u001b[K     |███                             | 10kB 13.3MB/s eta 0:00:01\r\u001b[K     |██████                          | 20kB 18.7MB/s eta 0:00:01\r\u001b[K     |█████████                       | 30kB 10.3MB/s eta 0:00:01\r\u001b[K     |████████████                    | 40kB 8.2MB/s eta 0:00:01\r\u001b[K     |███████████████                 | 51kB 5.3MB/s eta 0:00:01\r\u001b[K     |██████████████████              | 61kB 5.4MB/s eta 0:00:01\r\u001b[K     |█████████████████████           | 71kB 5.8MB/s eta 0:00:01\r\u001b[K     |████████████████████████        | 81kB 6.4MB/s eta 0:00:01\r\u001b[K     |███████████████████████████     | 92kB 6.4MB/s eta 0:00:01\r\u001b[K     |██████████████████████████████  | 102kB 5.1MB/s eta 0:00:01\r\u001b[K     |████████████████████████████████| 112kB 5.1MB/s \n",
            "\u001b[?25hRequirement already satisfied: numpy>=1.20.0 in /usr/local/lib/python3.7/dist-packages (from mljar-supervised) (1.20.3)\n",
            "Collecting pandas==1.2.0\n",
            "\u001b[?25l  Downloading https://files.pythonhosted.org/packages/ff/bd/fb376f9fbad92b9a6efdbb30ff32c80f3cba1368689309cbb5566364af5c/pandas-1.2.0-cp37-cp37m-manylinux1_x86_64.whl (9.9MB)\n",
            "\u001b[K     |████████████████████████████████| 9.9MB 9.0MB/s \n",
            "\u001b[?25hCollecting scipy==1.6.1\n",
            "\u001b[?25l  Downloading https://files.pythonhosted.org/packages/b6/3a/9e0649ab2d5ade703baa70ef980aa08739226e5d6a642f084bb201a92fc2/scipy-1.6.1-cp37-cp37m-manylinux1_x86_64.whl (27.4MB)\n",
            "\u001b[K     |████████████████████████████████| 27.4MB 161kB/s \n",
            "\u001b[?25hRequirement already satisfied: scikit-learn==0.24.2 in /usr/local/lib/python3.7/dist-packages (from mljar-supervised) (0.24.2)\n",
            "Collecting xgboost==1.3.3\n",
            "\u001b[?25l  Downloading https://files.pythonhosted.org/packages/2e/57/bf5026701c384decd2b995eb39d86587a103ba4eb26f8a9b1811db0896d3/xgboost-1.3.3-py3-none-manylinux2010_x86_64.whl (157.5MB)\n",
            "\u001b[K     |████████████████████████████████| 157.5MB 88kB/s \n",
            "\u001b[?25hCollecting lightgbm==3.0.0\n",
            "\u001b[?25l  Downloading https://files.pythonhosted.org/packages/25/47/f8ef524e15ff86f5246cb4e1cee200b747ddb2536429fa021cc5f17ea40a/lightgbm-3.0.0-py2.py3-none-manylinux1_x86_64.whl (1.7MB)\n",
            "\u001b[K     |████████████████████████████████| 1.8MB 28.6MB/s \n",
            "\u001b[?25hCollecting catboost==0.24.4\n",
            "\u001b[?25l  Downloading https://files.pythonhosted.org/packages/96/3b/bb419654adcf7efff42ed8a3f84e50c8f236424b7ed1cc8ccd290852e003/catboost-0.24.4-cp37-none-manylinux1_x86_64.whl (65.7MB)\n",
            "\u001b[K     |████████████████████████████████| 65.7MB 75kB/s \n",
            "\u001b[?25hRequirement already satisfied: joblib==1.0.1 in /usr/local/lib/python3.7/dist-packages (from mljar-supervised) (1.0.1)\n",
            "Requirement already satisfied: cloudpickle==1.3.0 in /usr/local/lib/python3.7/dist-packages (from mljar-supervised) (1.3.0)\n",
            "Requirement already satisfied: pyarrow>=2.0.0 in /usr/local/lib/python3.7/dist-packages (from mljar-supervised) (3.0.0)\n",
            "Collecting tabulate==0.8.7\n",
            "  Downloading https://files.pythonhosted.org/packages/c4/f4/770ae9385990f5a19a91431163d262182d3203662ea2b5739d0fcfc080f1/tabulate-0.8.7-py3-none-any.whl\n",
            "Requirement already satisfied: matplotlib>=3.2.2 in /usr/local/lib/python3.7/dist-packages (from mljar-supervised) (3.2.2)\n",
            "Collecting dtreeviz==1.3\n",
            "\u001b[?25l  Downloading https://files.pythonhosted.org/packages/35/95/f54aa86548a549da2a6b4159e1d2801b74bf27e01b669e50f3bf26ce30b8/dtreeviz-1.3.tar.gz (60kB)\n",
            "\u001b[K     |████████████████████████████████| 61kB 7.0MB/s \n",
            "\u001b[?25hCollecting shap==0.36.0\n",
            "\u001b[?25l  Downloading https://files.pythonhosted.org/packages/d2/17/37ee6c79cafbd9bb7423b54e55ea90beec66aa7638664d607bcc28de0bae/shap-0.36.0.tar.gz (319kB)\n",
            "\u001b[K     |████████████████████████████████| 327kB 43.8MB/s \n",
            "\u001b[?25hRequirement already satisfied: seaborn==0.11.1 in /usr/local/lib/python3.7/dist-packages (from mljar-supervised) (0.11.1)\n",
            "Collecting wordcloud==1.8.1\n",
            "\u001b[?25l  Downloading https://files.pythonhosted.org/packages/1b/06/0516bdba2ebdc0d5bd476aa66f94666dd0ad6b9abda723fdf28e451db919/wordcloud-1.8.1-cp37-cp37m-manylinux1_x86_64.whl (366kB)\n",
            "\u001b[K     |████████████████████████████████| 368kB 43.5MB/s \n",
            "\u001b[?25hCollecting category_encoders==2.2.2\n",
            "\u001b[?25l  Downloading https://files.pythonhosted.org/packages/44/57/fcef41c248701ee62e8325026b90c432adea35555cbc870aff9cfba23727/category_encoders-2.2.2-py2.py3-none-any.whl (80kB)\n",
            "\u001b[K     |████████████████████████████████| 81kB 6.5MB/s \n",
            "\u001b[?25hCollecting optuna==2.7.0\n",
            "\u001b[?25l  Downloading https://files.pythonhosted.org/packages/2b/21/d13081805e1e1afc71f5bb743ece324c8bd576237c51b899ecb38a717502/optuna-2.7.0-py3-none-any.whl (293kB)\n",
            "\u001b[K     |████████████████████████████████| 296kB 26.0MB/s \n",
            "\u001b[?25hCollecting scikit-plot==0.3.7\n",
            "  Downloading https://files.pythonhosted.org/packages/7c/47/32520e259340c140a4ad27c1b97050dd3254fdc517b1d59974d47037510e/scikit_plot-0.3.7-py3-none-any.whl\n",
            "Requirement already satisfied: markdown in /usr/local/lib/python3.7/dist-packages (from mljar-supervised) (3.3.4)\n",
            "Requirement already satisfied: python-dateutil>=2.7.3 in /usr/local/lib/python3.7/dist-packages (from pandas==1.2.0->mljar-supervised) (2.8.1)\n",
            "Requirement already satisfied: pytz>=2017.3 in /usr/local/lib/python3.7/dist-packages (from pandas==1.2.0->mljar-supervised) (2018.9)\n",
            "Requirement already satisfied: threadpoolctl>=2.0.0 in /usr/local/lib/python3.7/dist-packages (from scikit-learn==0.24.2->mljar-supervised) (2.1.0)\n",
            "Requirement already satisfied: plotly in /usr/local/lib/python3.7/dist-packages (from catboost==0.24.4->mljar-supervised) (4.4.1)\n",
            "Requirement already satisfied: six in /usr/local/lib/python3.7/dist-packages (from catboost==0.24.4->mljar-supervised) (1.15.0)\n",
            "Requirement already satisfied: graphviz in /usr/local/lib/python3.7/dist-packages (from catboost==0.24.4->mljar-supervised) (0.10.1)\n",
            "Requirement already satisfied: pyparsing!=2.0.4,!=2.1.2,!=2.1.6,>=2.0.1 in /usr/local/lib/python3.7/dist-packages (from matplotlib>=3.2.2->mljar-supervised) (2.4.7)\n",
            "Requirement already satisfied: cycler>=0.10 in /usr/local/lib/python3.7/dist-packages (from matplotlib>=3.2.2->mljar-supervised) (0.10.0)\n",
            "Requirement already satisfied: kiwisolver>=1.0.1 in /usr/local/lib/python3.7/dist-packages (from matplotlib>=3.2.2->mljar-supervised) (1.3.1)\n",
            "Collecting colour\n",
            "  Downloading https://files.pythonhosted.org/packages/74/46/e81907704ab203206769dee1385dc77e1407576ff8f50a0681d0a6b541be/colour-0.1.5-py2.py3-none-any.whl\n",
            "Requirement already satisfied: pytest in /usr/local/lib/python3.7/dist-packages (from dtreeviz==1.3->mljar-supervised) (3.6.4)\n",
            "Requirement already satisfied: tqdm>4.25.0 in /usr/local/lib/python3.7/dist-packages (from shap==0.36.0->mljar-supervised) (4.41.1)\n",
            "Collecting slicer\n",
            "  Downloading https://files.pythonhosted.org/packages/78/c2/b3f55dfdb8af9812fdb9baf70cacf3b9e82e505b2bd4324d588888b81202/slicer-0.0.7-py3-none-any.whl\n",
            "Requirement already satisfied: numba in /usr/local/lib/python3.7/dist-packages (from shap==0.36.0->mljar-supervised) (0.51.2)\n",
            "Requirement already satisfied: pillow in /usr/local/lib/python3.7/dist-packages (from wordcloud==1.8.1->mljar-supervised) (7.1.2)\n",
            "Requirement already satisfied: statsmodels>=0.9.0 in /usr/local/lib/python3.7/dist-packages (from category_encoders==2.2.2->mljar-supervised) (0.10.2)\n",
            "Requirement already satisfied: patsy>=0.5.1 in /usr/local/lib/python3.7/dist-packages (from category_encoders==2.2.2->mljar-supervised) (0.5.1)\n",
            "Requirement already satisfied: sqlalchemy>=1.1.0 in /usr/local/lib/python3.7/dist-packages (from optuna==2.7.0->mljar-supervised) (1.4.15)\n",
            "Collecting cliff\n",
            "\u001b[?25l  Downloading https://files.pythonhosted.org/packages/87/11/aea1cacbd4cf8262809c4d6f95dcb3f2802594de1f51c5bd454d69bf15c5/cliff-3.8.0-py3-none-any.whl (80kB)\n",
            "\u001b[K     |████████████████████████████████| 81kB 8.7MB/s \n",
            "\u001b[?25hRequirement already satisfied: packaging>=20.0 in /usr/local/lib/python3.7/dist-packages (from optuna==2.7.0->mljar-supervised) (20.9)\n",
            "Collecting colorlog\n",
            "  Downloading https://files.pythonhosted.org/packages/32/e6/e9ddc6fa1104fda718338b341e4b3dc31cd8039ab29e52fc73b508515361/colorlog-5.0.1-py2.py3-none-any.whl\n",
            "Collecting cmaes>=0.8.2\n",
            "  Downloading https://files.pythonhosted.org/packages/01/1f/43b01223a0366171f474320c6e966c39a11587287f098a5f09809b45e05f/cmaes-0.8.2-py3-none-any.whl\n",
            "Collecting alembic\n",
            "\u001b[?25l  Downloading https://files.pythonhosted.org/packages/d5/80/ef186e599a57d0e4cb78fc76e0bfc2e6953fa9716b2a5cf2de0117ed8eb5/alembic-1.6.5-py2.py3-none-any.whl (164kB)\n",
            "\u001b[K     |████████████████████████████████| 174kB 40.3MB/s \n",
            "\u001b[?25hRequirement already satisfied: importlib-metadata; python_version < \"3.8\" in /usr/local/lib/python3.7/dist-packages (from markdown->mljar-supervised) (4.0.1)\n",
            "Requirement already satisfied: retrying>=1.3.3 in /usr/local/lib/python3.7/dist-packages (from plotly->catboost==0.24.4->mljar-supervised) (1.3.3)\n",
            "Requirement already satisfied: attrs>=17.4.0 in /usr/local/lib/python3.7/dist-packages (from pytest->dtreeviz==1.3->mljar-supervised) (21.2.0)\n",
            "Requirement already satisfied: pluggy<0.8,>=0.5 in /usr/local/lib/python3.7/dist-packages (from pytest->dtreeviz==1.3->mljar-supervised) (0.7.1)\n",
            "Requirement already satisfied: more-itertools>=4.0.0 in /usr/local/lib/python3.7/dist-packages (from pytest->dtreeviz==1.3->mljar-supervised) (8.7.0)\n",
            "Requirement already satisfied: setuptools in /usr/local/lib/python3.7/dist-packages (from pytest->dtreeviz==1.3->mljar-supervised) (56.1.0)\n",
            "Requirement already satisfied: atomicwrites>=1.0 in /usr/local/lib/python3.7/dist-packages (from pytest->dtreeviz==1.3->mljar-supervised) (1.4.0)\n",
            "Requirement already satisfied: py>=1.5.0 in /usr/local/lib/python3.7/dist-packages (from pytest->dtreeviz==1.3->mljar-supervised) (1.10.0)\n",
            "Requirement already satisfied: llvmlite<0.35,>=0.34.0.dev0 in /usr/local/lib/python3.7/dist-packages (from numba->shap==0.36.0->mljar-supervised) (0.34.0)\n",
            "Requirement already satisfied: greenlet!=0.4.17; python_version >= \"3\" in /usr/local/lib/python3.7/dist-packages (from sqlalchemy>=1.1.0->optuna==2.7.0->mljar-supervised) (1.1.0)\n",
            "Collecting cmd2>=1.0.0\n",
            "\u001b[?25l  Downloading https://files.pythonhosted.org/packages/15/8b/15061b32332bb35ea2a2f6263d0f616779d576e82739ec8e7fcf3c94abf5/cmd2-1.5.0-py3-none-any.whl (133kB)\n",
            "\u001b[K     |████████████████████████████████| 143kB 49.1MB/s \n",
            "\u001b[?25hCollecting stevedore>=2.0.1\n",
            "\u001b[?25l  Downloading https://files.pythonhosted.org/packages/d4/49/b602307aeac3df3384ff1fcd05da9c0376c622a6c48bb5325f28ab165b57/stevedore-3.3.0-py3-none-any.whl (49kB)\n",
            "\u001b[K     |████████████████████████████████| 51kB 6.3MB/s \n",
            "\u001b[?25hRequirement already satisfied: PrettyTable>=0.7.2 in /usr/local/lib/python3.7/dist-packages (from cliff->optuna==2.7.0->mljar-supervised) (2.1.0)\n",
            "Requirement already satisfied: PyYAML>=3.12 in /usr/local/lib/python3.7/dist-packages (from cliff->optuna==2.7.0->mljar-supervised) (3.13)\n",
            "Collecting pbr!=2.1.0,>=2.0.0\n",
            "\u001b[?25l  Downloading https://files.pythonhosted.org/packages/18/e0/1d4702dd81121d04a477c272d47ee5b6bc970d1a0990b11befa275c55cf2/pbr-5.6.0-py2.py3-none-any.whl (111kB)\n",
            "\u001b[K     |████████████████████████████████| 112kB 47.0MB/s \n",
            "\u001b[?25hCollecting Mako\n",
            "\u001b[?25l  Downloading https://files.pythonhosted.org/packages/f3/54/dbc07fbb20865d3b78fdb7cf7fa713e2cba4f87f71100074ef2dc9f9d1f7/Mako-1.1.4-py2.py3-none-any.whl (75kB)\n",
            "\u001b[K     |████████████████████████████████| 81kB 8.5MB/s \n",
            "\u001b[?25hCollecting python-editor>=0.3\n",
            "  Downloading https://files.pythonhosted.org/packages/c6/d3/201fc3abe391bbae6606e6f1d598c15d367033332bd54352b12f35513717/python_editor-1.0.4-py3-none-any.whl\n",
            "Requirement already satisfied: typing-extensions>=3.6.4; python_version < \"3.8\" in /usr/local/lib/python3.7/dist-packages (from importlib-metadata; python_version < \"3.8\"->markdown->mljar-supervised) (3.7.4.3)\n",
            "Requirement already satisfied: zipp>=0.5 in /usr/local/lib/python3.7/dist-packages (from importlib-metadata; python_version < \"3.8\"->markdown->mljar-supervised) (3.4.1)\n",
            "Collecting colorama>=0.3.7\n",
            "  Downloading https://files.pythonhosted.org/packages/44/98/5b86278fbbf250d239ae0ecb724f8572af1c91f4a11edf4d36a206189440/colorama-0.4.4-py2.py3-none-any.whl\n",
            "Collecting pyperclip>=1.6\n",
            "  Downloading https://files.pythonhosted.org/packages/a7/2c/4c64579f847bd5d539803c8b909e54ba087a79d01bb3aba433a95879a6c5/pyperclip-1.8.2.tar.gz\n",
            "Requirement already satisfied: wcwidth>=0.1.7 in /usr/local/lib/python3.7/dist-packages (from cmd2>=1.0.0->cliff->optuna==2.7.0->mljar-supervised) (0.2.5)\n",
            "Requirement already satisfied: MarkupSafe>=0.9.2 in /usr/local/lib/python3.7/dist-packages (from Mako->alembic->optuna==2.7.0->mljar-supervised) (2.0.1)\n",
            "Building wheels for collected packages: mljar-supervised, dtreeviz, shap, pyperclip\n",
            "  Building wheel for mljar-supervised (setup.py) ... \u001b[?25l\u001b[?25hdone\n",
            "  Created wheel for mljar-supervised: filename=mljar_supervised-0.10.4-cp37-none-any.whl size=143914 sha256=b99c424e9427ecf2abfef3a7080e51fa1f606193df33092f391f07b53524aba9\n",
            "  Stored in directory: /root/.cache/pip/wheels/a3/ea/35/583dcb9528d9a561e490f431abea5a7882cfcd83831abc7832\n",
            "  Building wheel for dtreeviz (setup.py) ... \u001b[?25l\u001b[?25hdone\n",
            "  Created wheel for dtreeviz: filename=dtreeviz-1.3-cp37-none-any.whl size=66642 sha256=523845671d30ad1321b2d04a29ce5de68f3b7cce03de673d9e442f179d4aa37d\n",
            "  Stored in directory: /root/.cache/pip/wheels/60/36/b1/188ee35c677e48463f6482d580f81c19f5f82ae5adbe293fd8\n",
            "  Building wheel for shap (setup.py) ... \u001b[?25l\u001b[?25hdone\n",
            "  Created wheel for shap: filename=shap-0.36.0-cp37-cp37m-linux_x86_64.whl size=457612 sha256=6f4b0e4fe659a74db3f185115e1f1e40d048386f64fd0a9ace31b4933b0cce6a\n",
            "  Stored in directory: /root/.cache/pip/wheels/fb/15/e1/8f61106790da27e0765aaa6e664550ca2c50ea339099e799f4\n",
            "  Building wheel for pyperclip (setup.py) ... \u001b[?25l\u001b[?25hdone\n",
            "  Created wheel for pyperclip: filename=pyperclip-1.8.2-cp37-none-any.whl size=11107 sha256=22cae4857d3acf8f22205e9101f7e20607103e41c1183a9d7c729856039f66fc\n",
            "  Stored in directory: /root/.cache/pip/wheels/25/af/b8/3407109267803f4015e1ee2ff23be0c8c19ce4008665931ee1\n",
            "Successfully built mljar-supervised dtreeviz shap pyperclip\n",
            "\u001b[31mERROR: google-colab 1.0.0 has requirement pandas~=1.1.0; python_version >= \"3.0\", but you'll have pandas 1.2.0 which is incompatible.\u001b[0m\n",
            "\u001b[31mERROR: albumentations 0.1.12 has requirement imgaug<0.2.7,>=0.2.5, but you'll have imgaug 0.2.9 which is incompatible.\u001b[0m\n",
            "Installing collected packages: pandas, scipy, xgboost, lightgbm, catboost, tabulate, colour, dtreeviz, slicer, shap, wordcloud, category-encoders, colorama, pyperclip, cmd2, pbr, stevedore, cliff, colorlog, cmaes, Mako, python-editor, alembic, optuna, scikit-plot, mljar-supervised\n",
            "  Found existing installation: pandas 1.2.4\n",
            "    Uninstalling pandas-1.2.4:\n",
            "      Successfully uninstalled pandas-1.2.4\n",
            "  Found existing installation: scipy 1.6.3\n",
            "    Uninstalling scipy-1.6.3:\n",
            "      Successfully uninstalled scipy-1.6.3\n",
            "  Found existing installation: xgboost 0.90\n",
            "    Uninstalling xgboost-0.90:\n",
            "      Successfully uninstalled xgboost-0.90\n",
            "  Found existing installation: lightgbm 3.2.1\n",
            "    Uninstalling lightgbm-3.2.1:\n",
            "      Successfully uninstalled lightgbm-3.2.1\n",
            "  Found existing installation: tabulate 0.8.9\n",
            "    Uninstalling tabulate-0.8.9:\n",
            "      Successfully uninstalled tabulate-0.8.9\n",
            "  Found existing installation: wordcloud 1.5.0\n",
            "    Uninstalling wordcloud-1.5.0:\n",
            "      Successfully uninstalled wordcloud-1.5.0\n",
            "Successfully installed Mako-1.1.4 alembic-1.6.5 catboost-0.24.4 category-encoders-2.2.2 cliff-3.8.0 cmaes-0.8.2 cmd2-1.5.0 colorama-0.4.4 colorlog-5.0.1 colour-0.1.5 dtreeviz-1.3 lightgbm-3.0.0 mljar-supervised-0.10.4 optuna-2.7.0 pandas-1.2.0 pbr-5.6.0 pyperclip-1.8.2 python-editor-1.0.4 scikit-plot-0.3.7 scipy-1.6.1 shap-0.36.0 slicer-0.0.7 stevedore-3.3.0 tabulate-0.8.7 wordcloud-1.8.1 xgboost-1.3.3\n"
          ],
          "name": "stdout"
        },
        {
          "output_type": "display_data",
          "data": {
            "application/vnd.colab-display-data+json": {
              "pip_warning": {
                "packages": [
                  "pandas"
                ]
              }
            }
          },
          "metadata": {
            "tags": []
          }
        }
      ]
    },
    {
      "cell_type": "code",
      "metadata": {
        "colab": {
          "base_uri": "https://localhost:8080/",
          "height": 0
        },
        "id": "T1o1pitgHLLc",
        "outputId": "8d428c73-2b8e-4c2b-df19-330e1de7dea4"
      },
      "source": [
        "from sklearn.model_selection import train_test_split\n",
        "from supervised.automl import AutoML"
      ],
      "execution_count": 1,
      "outputs": [
        {
          "output_type": "stream",
          "text": [
            "pandas.util.testing is deprecated. Use the functions in the public API at pandas.testing instead.\n"
          ],
          "name": "stderr"
        }
      ]
    },
    {
      "cell_type": "code",
      "metadata": {
        "id": "6j8hV4328Y-3"
      },
      "source": [
        "import pandas as pd\n",
        "import matplotlib.pyplot as plt\n",
        "import numpy as np\n",
        "import seaborn as sns\n",
        "from sklearn.model_selection import train_test_split\n",
        "from sklearn.preprocessing import StandardScaler\n",
        "from sklearn.preprocessing import MinMaxScaler\n",
        "from sklearn.preprocessing import RobustScaler\n",
        "from sklearn.preprocessing import MaxAbsScaler\n",
        "from sklearn.impute import SimpleImputer\n",
        "from sklearn.impute import MissingIndicator\n",
        "from sklearn.impute import KNNImputer\n",
        "import scipy.stats as stats\n",
        "import sklearn\n",
        "from sklearn.svm import SVR\n",
        "from sklearn.svm import LinearSVC\n",
        "from sklearn.feature_selection import SelectFromModel\n",
        "from sklearn.linear_model import Lasso\n",
        "from sklearn.linear_model import LogisticRegression\n",
        "from sklearn.neighbors import KNeighborsClassifier\n",
        "from sklearn.neighbors import KNeighborsRegressor\n",
        "from sklearn.tree import DecisionTreeClassifier\n",
        "from sklearn.ensemble import RandomForestClassifier\n",
        "from sklearn.ensemble import GradientBoostingClassifier\n",
        "from sklearn.tree import DecisionTreeRegressor\n",
        "from sklearn.ensemble import RandomForestRegressor\n",
        "from sklearn.ensemble import GradientBoostingRegressor\n",
        "from sklearn.metrics import mean_squared_error\n",
        "from sklearn.model_selection import train_test_split\n",
        "from sklearn.feature_selection import VarianceThreshold\n",
        "from sklearn.feature_selection import mutual_info_classif, mutual_info_regression\n",
        "from sklearn.feature_selection import SelectKBest, SelectPercentile\n",
        "from sklearn.linear_model import LinearRegression\n",
        "from sklearn.neighbors import KNeighborsRegressor\n",
        "from sklearn.tree import DecisionTreeRegressor\n",
        "from sklearn.ensemble import RandomForestRegressor\n",
        "from sklearn.ensemble import GradientBoostingRegressor\n",
        "from sklearn.metrics import mean_squared_error\n",
        "from sklearn.model_selection import train_test_split\n",
        "from IPython.display import Image\n",
        "%matplotlib inline \n",
        "sns.set(style=\"ticks\")"
      ],
      "execution_count": 2,
      "outputs": []
    },
    {
      "cell_type": "code",
      "metadata": {
        "id": "LpJJt-688EsQ"
      },
      "source": [
        "def draw_kde(col_list, df1, df2, label1, label2):\n",
        "    fig, (ax1, ax2) = plt.subplots(\n",
        "        ncols=2, figsize=(12, 5))\n",
        "    # первый график\n",
        "    ax1.set_title(label1)\n",
        "    sns.kdeplot(data=df1[col_list], ax=ax1)\n",
        "    # второй график\n",
        "    ax2.set_title(label2)\n",
        "    sns.kdeplot(data=df2[col_list], ax=ax2)\n",
        "    plt.show()"
      ],
      "execution_count": 73,
      "outputs": []
    },
    {
      "cell_type": "code",
      "metadata": {
        "id": "fgPOWkDA-QzC"
      },
      "source": [
        "def impute_column(dataset, column, strategy_param, fill_value_param=None):\n",
        "\n",
        "    temp_data = dataset[[column]].values\n",
        "    size = temp_data.shape[0]\n",
        "    \n",
        "    indicator = MissingIndicator()\n",
        "    mask_missing_values_only = indicator.fit_transform(temp_data)\n",
        "    \n",
        "    imputer = SimpleImputer(strategy=strategy_param, \n",
        "                            fill_value=fill_value_param)\n",
        "    all_data = imputer.fit_transform(temp_data)\n",
        "    \n",
        "    missed_data = temp_data[mask_missing_values_only]\n",
        "    filled_data = all_data[mask_missing_values_only]\n",
        "    \n",
        "    return all_data.reshape((size,)), filled_data, missed_data"
      ],
      "execution_count": 74,
      "outputs": []
    },
    {
      "cell_type": "code",
      "metadata": {
        "id": "Ut7940L2-UAa"
      },
      "source": [
        "def diagnostic_plots(df, variable):\n",
        "    plt.figure(figsize=(15,6))\n",
        "    # гистограмма\n",
        "    plt.subplot(1, 2, 1)\n",
        "    df[variable].hist(bins=30)\n",
        "    ## Q-Q plot\n",
        "    plt.subplot(1, 2, 2)\n",
        "    stats.probplot(df[variable], dist=\"norm\", plot=plt)\n",
        "    plt.show()"
      ],
      "execution_count": 75,
      "outputs": []
    },
    {
      "cell_type": "code",
      "metadata": {
        "colab": {
          "base_uri": "https://localhost:8080/",
          "height": 0
        },
        "id": "aKq5o2dL-WIc",
        "outputId": "b845baa2-2710-45c9-c28f-dc3ecbcf0677"
      },
      "source": [
        "from google.colab import drive\n",
        "drive.mount('/content/gdrive')"
      ],
      "execution_count": 76,
      "outputs": [
        {
          "output_type": "stream",
          "text": [
            "Drive already mounted at /content/gdrive; to attempt to forcibly remount, call drive.mount(\"/content/gdrive\", force_remount=True).\n"
          ],
          "name": "stdout"
        }
      ]
    },
    {
      "cell_type": "code",
      "metadata": {
        "colab": {
          "base_uri": "https://localhost:8080/",
          "height": 491
        },
        "id": "Via1zHqc-n4T",
        "outputId": "a3af9e8d-002c-411c-81ab-ee7cd055cc28"
      },
      "source": [
        "df = pd.read_csv('/content/gdrive/My Drive/MMO/stars.csv')\n",
        "df.head(15)"
      ],
      "execution_count": 77,
      "outputs": [
        {
          "output_type": "execute_result",
          "data": {
            "text/html": [
              "<div>\n",
              "<style scoped>\n",
              "    .dataframe tbody tr th:only-of-type {\n",
              "        vertical-align: middle;\n",
              "    }\n",
              "\n",
              "    .dataframe tbody tr th {\n",
              "        vertical-align: top;\n",
              "    }\n",
              "\n",
              "    .dataframe thead th {\n",
              "        text-align: right;\n",
              "    }\n",
              "</style>\n",
              "<table border=\"1\" class=\"dataframe\">\n",
              "  <thead>\n",
              "    <tr style=\"text-align: right;\">\n",
              "      <th></th>\n",
              "      <th>Temperature</th>\n",
              "      <th>Otnosit_yarkost</th>\n",
              "      <th>Otnosit_radius</th>\n",
              "      <th>Abs_Velichina</th>\n",
              "      <th>Color</th>\n",
              "      <th>Spectr_class</th>\n",
              "      <th>Type</th>\n",
              "    </tr>\n",
              "  </thead>\n",
              "  <tbody>\n",
              "    <tr>\n",
              "      <th>0</th>\n",
              "      <td>3068</td>\n",
              "      <td>NaN</td>\n",
              "      <td>0.170</td>\n",
              "      <td>16.120</td>\n",
              "      <td>Red</td>\n",
              "      <td>M</td>\n",
              "      <td>0</td>\n",
              "    </tr>\n",
              "    <tr>\n",
              "      <th>1</th>\n",
              "      <td>3042</td>\n",
              "      <td>0.00050</td>\n",
              "      <td>NaN</td>\n",
              "      <td>16.600</td>\n",
              "      <td>Red</td>\n",
              "      <td>M</td>\n",
              "      <td>0</td>\n",
              "    </tr>\n",
              "    <tr>\n",
              "      <th>2</th>\n",
              "      <td>2600</td>\n",
              "      <td>0.00030</td>\n",
              "      <td>0.102</td>\n",
              "      <td>NaN</td>\n",
              "      <td>Red</td>\n",
              "      <td>M</td>\n",
              "      <td>0</td>\n",
              "    </tr>\n",
              "    <tr>\n",
              "      <th>3</th>\n",
              "      <td>2800</td>\n",
              "      <td>0.00020</td>\n",
              "      <td>NaN</td>\n",
              "      <td>16.650</td>\n",
              "      <td>Red</td>\n",
              "      <td>M</td>\n",
              "      <td>0</td>\n",
              "    </tr>\n",
              "    <tr>\n",
              "      <th>4</th>\n",
              "      <td>1939</td>\n",
              "      <td>NaN</td>\n",
              "      <td>0.103</td>\n",
              "      <td>20.060</td>\n",
              "      <td>NaN</td>\n",
              "      <td>M</td>\n",
              "      <td>0</td>\n",
              "    </tr>\n",
              "    <tr>\n",
              "      <th>5</th>\n",
              "      <td>2840</td>\n",
              "      <td>0.00065</td>\n",
              "      <td>0.110</td>\n",
              "      <td>16.980</td>\n",
              "      <td>Red</td>\n",
              "      <td>M</td>\n",
              "      <td>0</td>\n",
              "    </tr>\n",
              "    <tr>\n",
              "      <th>6</th>\n",
              "      <td>2637</td>\n",
              "      <td>0.00073</td>\n",
              "      <td>0.127</td>\n",
              "      <td>17.220</td>\n",
              "      <td>Red</td>\n",
              "      <td>M</td>\n",
              "      <td>0</td>\n",
              "    </tr>\n",
              "    <tr>\n",
              "      <th>7</th>\n",
              "      <td>2600</td>\n",
              "      <td>0.00040</td>\n",
              "      <td>NaN</td>\n",
              "      <td>17.400</td>\n",
              "      <td>Red</td>\n",
              "      <td>M</td>\n",
              "      <td>0</td>\n",
              "    </tr>\n",
              "    <tr>\n",
              "      <th>8</th>\n",
              "      <td>2650</td>\n",
              "      <td>0.00069</td>\n",
              "      <td>0.110</td>\n",
              "      <td>17.450</td>\n",
              "      <td>Red</td>\n",
              "      <td>M</td>\n",
              "      <td>0</td>\n",
              "    </tr>\n",
              "    <tr>\n",
              "      <th>9</th>\n",
              "      <td>2700</td>\n",
              "      <td>0.00018</td>\n",
              "      <td>NaN</td>\n",
              "      <td>16.050</td>\n",
              "      <td>Red</td>\n",
              "      <td>M</td>\n",
              "      <td>0</td>\n",
              "    </tr>\n",
              "    <tr>\n",
              "      <th>10</th>\n",
              "      <td>3600</td>\n",
              "      <td>0.00290</td>\n",
              "      <td>NaN</td>\n",
              "      <td>10.690</td>\n",
              "      <td>NaN</td>\n",
              "      <td>M</td>\n",
              "      <td>1</td>\n",
              "    </tr>\n",
              "    <tr>\n",
              "      <th>11</th>\n",
              "      <td>3129</td>\n",
              "      <td>0.01220</td>\n",
              "      <td>NaN</td>\n",
              "      <td>11.790</td>\n",
              "      <td>Red</td>\n",
              "      <td>M</td>\n",
              "      <td>1</td>\n",
              "    </tr>\n",
              "    <tr>\n",
              "      <th>12</th>\n",
              "      <td>3134</td>\n",
              "      <td>0.00040</td>\n",
              "      <td>0.196</td>\n",
              "      <td>13.210</td>\n",
              "      <td>Red</td>\n",
              "      <td>M</td>\n",
              "      <td>1</td>\n",
              "    </tr>\n",
              "    <tr>\n",
              "      <th>13</th>\n",
              "      <td>3628</td>\n",
              "      <td>0.00550</td>\n",
              "      <td>NaN</td>\n",
              "      <td>10.480</td>\n",
              "      <td>Red</td>\n",
              "      <td>M</td>\n",
              "      <td>1</td>\n",
              "    </tr>\n",
              "    <tr>\n",
              "      <th>14</th>\n",
              "      <td>2650</td>\n",
              "      <td>0.00060</td>\n",
              "      <td>0.140</td>\n",
              "      <td>11.782</td>\n",
              "      <td>NaN</td>\n",
              "      <td>M</td>\n",
              "      <td>1</td>\n",
              "    </tr>\n",
              "  </tbody>\n",
              "</table>\n",
              "</div>"
            ],
            "text/plain": [
              "    Temperature  Otnosit_yarkost  Otnosit_radius  ...  Color Spectr_class Type\n",
              "0          3068              NaN           0.170  ...    Red            M    0\n",
              "1          3042          0.00050             NaN  ...    Red            M    0\n",
              "2          2600          0.00030           0.102  ...    Red            M    0\n",
              "3          2800          0.00020             NaN  ...    Red            M    0\n",
              "4          1939              NaN           0.103  ...    NaN            M    0\n",
              "5          2840          0.00065           0.110  ...    Red            M    0\n",
              "6          2637          0.00073           0.127  ...    Red            M    0\n",
              "7          2600          0.00040             NaN  ...    Red            M    0\n",
              "8          2650          0.00069           0.110  ...    Red            M    0\n",
              "9          2700          0.00018             NaN  ...    Red            M    0\n",
              "10         3600          0.00290             NaN  ...    NaN            M    1\n",
              "11         3129          0.01220             NaN  ...    Red            M    1\n",
              "12         3134          0.00040           0.196  ...    Red            M    1\n",
              "13         3628          0.00550             NaN  ...    Red            M    1\n",
              "14         2650          0.00060           0.140  ...    NaN            M    1\n",
              "\n",
              "[15 rows x 7 columns]"
            ]
          },
          "metadata": {
            "tags": []
          },
          "execution_count": 77
        }
      ]
    },
    {
      "cell_type": "code",
      "metadata": {
        "colab": {
          "base_uri": "https://localhost:8080/",
          "height": 0
        },
        "id": "Pd6MYBk7-0Kw",
        "outputId": "3156845c-b587-4895-fe6c-648e46ee3ffd"
      },
      "source": [
        "df.info()"
      ],
      "execution_count": 78,
      "outputs": [
        {
          "output_type": "stream",
          "text": [
            "<class 'pandas.core.frame.DataFrame'>\n",
            "RangeIndex: 240 entries, 0 to 239\n",
            "Data columns (total 7 columns):\n",
            " #   Column           Non-Null Count  Dtype  \n",
            "---  ------           --------------  -----  \n",
            " 0   Temperature      240 non-null    int64  \n",
            " 1   Otnosit_yarkost  237 non-null    float64\n",
            " 2   Otnosit_radius   228 non-null    float64\n",
            " 3   Abs_Velichina    237 non-null    float64\n",
            " 4   Color            233 non-null    object \n",
            " 5   Spectr_class     240 non-null    object \n",
            " 6   Type             240 non-null    int64  \n",
            "dtypes: float64(3), int64(2), object(2)\n",
            "memory usage: 13.2+ KB\n"
          ],
          "name": "stdout"
        }
      ]
    },
    {
      "cell_type": "markdown",
      "metadata": {
        "id": "wrJEBZ-o-8Zi"
      },
      "source": [
        "# **Устранение пропусков**\n",
        "Методы заполнения медианой и заполнения наиболее распространенным значением категории"
      ]
    },
    {
      "cell_type": "markdown",
      "metadata": {
        "id": "yzJyIWSd_H7o"
      },
      "source": [
        "**Устранение пропусков с использованием метода заполнения медианой**"
      ]
    },
    {
      "cell_type": "code",
      "metadata": {
        "id": "FAunDx6e-5Qo"
      },
      "source": [
        "median_oy = df['Otnosit_yarkost'].median()\n",
        "median_or = df['Otnosit_radius'].median()\n",
        "median_av = df['Abs_Velichina'].median()\n",
        "\n",
        "df['Otnosit_yarkost'] = df['Otnosit_yarkost'].fillna(median_oy)\n",
        "df['Otnosit_radius'] = df['Otnosit_radius'].fillna(median_or)\n",
        "df['Abs_Velichina'] = df['Abs_Velichina'].fillna(median_av)"
      ],
      "execution_count": 79,
      "outputs": []
    },
    {
      "cell_type": "markdown",
      "metadata": {
        "id": "EoKBp33p_oP0"
      },
      "source": [
        "**Устранение пропусков с использованием метода заполнения наиболее распространенным значением категории**"
      ]
    },
    {
      "cell_type": "code",
      "metadata": {
        "id": "XyZVvRjg_q-R"
      },
      "source": [
        "Color_new, _, _ = impute_column(df, 'Color', 'most_frequent')\n",
        "df['Color'] = Color_new"
      ],
      "execution_count": 80,
      "outputs": []
    },
    {
      "cell_type": "code",
      "metadata": {
        "colab": {
          "base_uri": "https://localhost:8080/",
          "height": 491
        },
        "id": "K3rSHvoM_tjY",
        "outputId": "3475dec9-a623-47c4-abfd-6a0ca8b1d0c1"
      },
      "source": [
        "df.head(15)"
      ],
      "execution_count": 81,
      "outputs": [
        {
          "output_type": "execute_result",
          "data": {
            "text/html": [
              "<div>\n",
              "<style scoped>\n",
              "    .dataframe tbody tr th:only-of-type {\n",
              "        vertical-align: middle;\n",
              "    }\n",
              "\n",
              "    .dataframe tbody tr th {\n",
              "        vertical-align: top;\n",
              "    }\n",
              "\n",
              "    .dataframe thead th {\n",
              "        text-align: right;\n",
              "    }\n",
              "</style>\n",
              "<table border=\"1\" class=\"dataframe\">\n",
              "  <thead>\n",
              "    <tr style=\"text-align: right;\">\n",
              "      <th></th>\n",
              "      <th>Temperature</th>\n",
              "      <th>Otnosit_yarkost</th>\n",
              "      <th>Otnosit_radius</th>\n",
              "      <th>Abs_Velichina</th>\n",
              "      <th>Color</th>\n",
              "      <th>Spectr_class</th>\n",
              "      <th>Type</th>\n",
              "    </tr>\n",
              "  </thead>\n",
              "  <tbody>\n",
              "    <tr>\n",
              "      <th>0</th>\n",
              "      <td>3068</td>\n",
              "      <td>0.15300</td>\n",
              "      <td>0.170</td>\n",
              "      <td>16.120</td>\n",
              "      <td>Red</td>\n",
              "      <td>M</td>\n",
              "      <td>0</td>\n",
              "    </tr>\n",
              "    <tr>\n",
              "      <th>1</th>\n",
              "      <td>3042</td>\n",
              "      <td>0.00050</td>\n",
              "      <td>0.945</td>\n",
              "      <td>16.600</td>\n",
              "      <td>Red</td>\n",
              "      <td>M</td>\n",
              "      <td>0</td>\n",
              "    </tr>\n",
              "    <tr>\n",
              "      <th>2</th>\n",
              "      <td>2600</td>\n",
              "      <td>0.00030</td>\n",
              "      <td>0.102</td>\n",
              "      <td>6.228</td>\n",
              "      <td>Red</td>\n",
              "      <td>M</td>\n",
              "      <td>0</td>\n",
              "    </tr>\n",
              "    <tr>\n",
              "      <th>3</th>\n",
              "      <td>2800</td>\n",
              "      <td>0.00020</td>\n",
              "      <td>0.945</td>\n",
              "      <td>16.650</td>\n",
              "      <td>Red</td>\n",
              "      <td>M</td>\n",
              "      <td>0</td>\n",
              "    </tr>\n",
              "    <tr>\n",
              "      <th>4</th>\n",
              "      <td>1939</td>\n",
              "      <td>0.15300</td>\n",
              "      <td>0.103</td>\n",
              "      <td>20.060</td>\n",
              "      <td>Red</td>\n",
              "      <td>M</td>\n",
              "      <td>0</td>\n",
              "    </tr>\n",
              "    <tr>\n",
              "      <th>5</th>\n",
              "      <td>2840</td>\n",
              "      <td>0.00065</td>\n",
              "      <td>0.110</td>\n",
              "      <td>16.980</td>\n",
              "      <td>Red</td>\n",
              "      <td>M</td>\n",
              "      <td>0</td>\n",
              "    </tr>\n",
              "    <tr>\n",
              "      <th>6</th>\n",
              "      <td>2637</td>\n",
              "      <td>0.00073</td>\n",
              "      <td>0.127</td>\n",
              "      <td>17.220</td>\n",
              "      <td>Red</td>\n",
              "      <td>M</td>\n",
              "      <td>0</td>\n",
              "    </tr>\n",
              "    <tr>\n",
              "      <th>7</th>\n",
              "      <td>2600</td>\n",
              "      <td>0.00040</td>\n",
              "      <td>0.945</td>\n",
              "      <td>17.400</td>\n",
              "      <td>Red</td>\n",
              "      <td>M</td>\n",
              "      <td>0</td>\n",
              "    </tr>\n",
              "    <tr>\n",
              "      <th>8</th>\n",
              "      <td>2650</td>\n",
              "      <td>0.00069</td>\n",
              "      <td>0.110</td>\n",
              "      <td>17.450</td>\n",
              "      <td>Red</td>\n",
              "      <td>M</td>\n",
              "      <td>0</td>\n",
              "    </tr>\n",
              "    <tr>\n",
              "      <th>9</th>\n",
              "      <td>2700</td>\n",
              "      <td>0.00018</td>\n",
              "      <td>0.945</td>\n",
              "      <td>16.050</td>\n",
              "      <td>Red</td>\n",
              "      <td>M</td>\n",
              "      <td>0</td>\n",
              "    </tr>\n",
              "    <tr>\n",
              "      <th>10</th>\n",
              "      <td>3600</td>\n",
              "      <td>0.00290</td>\n",
              "      <td>0.945</td>\n",
              "      <td>10.690</td>\n",
              "      <td>Red</td>\n",
              "      <td>M</td>\n",
              "      <td>1</td>\n",
              "    </tr>\n",
              "    <tr>\n",
              "      <th>11</th>\n",
              "      <td>3129</td>\n",
              "      <td>0.01220</td>\n",
              "      <td>0.945</td>\n",
              "      <td>11.790</td>\n",
              "      <td>Red</td>\n",
              "      <td>M</td>\n",
              "      <td>1</td>\n",
              "    </tr>\n",
              "    <tr>\n",
              "      <th>12</th>\n",
              "      <td>3134</td>\n",
              "      <td>0.00040</td>\n",
              "      <td>0.196</td>\n",
              "      <td>13.210</td>\n",
              "      <td>Red</td>\n",
              "      <td>M</td>\n",
              "      <td>1</td>\n",
              "    </tr>\n",
              "    <tr>\n",
              "      <th>13</th>\n",
              "      <td>3628</td>\n",
              "      <td>0.00550</td>\n",
              "      <td>0.945</td>\n",
              "      <td>10.480</td>\n",
              "      <td>Red</td>\n",
              "      <td>M</td>\n",
              "      <td>1</td>\n",
              "    </tr>\n",
              "    <tr>\n",
              "      <th>14</th>\n",
              "      <td>2650</td>\n",
              "      <td>0.00060</td>\n",
              "      <td>0.140</td>\n",
              "      <td>11.782</td>\n",
              "      <td>Red</td>\n",
              "      <td>M</td>\n",
              "      <td>1</td>\n",
              "    </tr>\n",
              "  </tbody>\n",
              "</table>\n",
              "</div>"
            ],
            "text/plain": [
              "    Temperature  Otnosit_yarkost  Otnosit_radius  ...  Color Spectr_class Type\n",
              "0          3068          0.15300           0.170  ...    Red            M    0\n",
              "1          3042          0.00050           0.945  ...    Red            M    0\n",
              "2          2600          0.00030           0.102  ...    Red            M    0\n",
              "3          2800          0.00020           0.945  ...    Red            M    0\n",
              "4          1939          0.15300           0.103  ...    Red            M    0\n",
              "5          2840          0.00065           0.110  ...    Red            M    0\n",
              "6          2637          0.00073           0.127  ...    Red            M    0\n",
              "7          2600          0.00040           0.945  ...    Red            M    0\n",
              "8          2650          0.00069           0.110  ...    Red            M    0\n",
              "9          2700          0.00018           0.945  ...    Red            M    0\n",
              "10         3600          0.00290           0.945  ...    Red            M    1\n",
              "11         3129          0.01220           0.945  ...    Red            M    1\n",
              "12         3134          0.00040           0.196  ...    Red            M    1\n",
              "13         3628          0.00550           0.945  ...    Red            M    1\n",
              "14         2650          0.00060           0.140  ...    Red            M    1\n",
              "\n",
              "[15 rows x 7 columns]"
            ]
          },
          "metadata": {
            "tags": []
          },
          "execution_count": 81
        }
      ]
    },
    {
      "cell_type": "code",
      "metadata": {
        "colab": {
          "base_uri": "https://localhost:8080/",
          "height": 0
        },
        "id": "tYgJvYSs_xSF",
        "outputId": "8ee575fb-5861-41bd-c0eb-5d42455c198f"
      },
      "source": [
        "df.info()"
      ],
      "execution_count": 82,
      "outputs": [
        {
          "output_type": "stream",
          "text": [
            "<class 'pandas.core.frame.DataFrame'>\n",
            "RangeIndex: 240 entries, 0 to 239\n",
            "Data columns (total 7 columns):\n",
            " #   Column           Non-Null Count  Dtype  \n",
            "---  ------           --------------  -----  \n",
            " 0   Temperature      240 non-null    int64  \n",
            " 1   Otnosit_yarkost  240 non-null    float64\n",
            " 2   Otnosit_radius   240 non-null    float64\n",
            " 3   Abs_Velichina    240 non-null    float64\n",
            " 4   Color            240 non-null    object \n",
            " 5   Spectr_class     240 non-null    object \n",
            " 6   Type             240 non-null    int64  \n",
            "dtypes: float64(3), int64(2), object(2)\n",
            "memory usage: 13.2+ KB\n"
          ],
          "name": "stdout"
        }
      ]
    },
    {
      "cell_type": "markdown",
      "metadata": {
        "id": "0nvKWAvE_4c5"
      },
      "source": [
        "# **Кодирование категориальных признаков**"
      ]
    },
    {
      "cell_type": "code",
      "metadata": {
        "colab": {
          "base_uri": "https://localhost:8080/",
          "height": 0
        },
        "id": "QhCzqrs6_1A_",
        "outputId": "ecf415ee-db33-4359-dde3-4d36865b15db"
      },
      "source": [
        "df['Spectr_class'].unique()"
      ],
      "execution_count": 83,
      "outputs": [
        {
          "output_type": "execute_result",
          "data": {
            "text/plain": [
              "array(['M', 'B', 'A', 'F', 'O', 'K', 'G'], dtype=object)"
            ]
          },
          "metadata": {
            "tags": []
          },
          "execution_count": 83
        }
      ]
    },
    {
      "cell_type": "code",
      "metadata": {
        "id": "T0eLV0p-AASm"
      },
      "source": [
        "df.loc[df['Spectr_class'] == 'M', 'Spectr_class'] = 1\n",
        "df.loc[df['Spectr_class'] == 'B', 'Spectr_class'] = 2\n",
        "df.loc[df['Spectr_class'] == 'A', 'Spectr_class'] = 3\n",
        "df.loc[df['Spectr_class'] == 'F', 'Spectr_class'] = 4\n",
        "df.loc[df['Spectr_class'] == 'O', 'Spectr_class'] = 5\n",
        "df.loc[df['Spectr_class'] == 'K', 'Spectr_class'] = 6\n",
        "df.loc[df['Spectr_class'] == 'G', 'Spectr_class'] = 7\n",
        "df['Spectr_class'] = pd.to_numeric(df['Spectr_class'])"
      ],
      "execution_count": 84,
      "outputs": []
    },
    {
      "cell_type": "code",
      "metadata": {
        "colab": {
          "base_uri": "https://localhost:8080/",
          "height": 0
        },
        "id": "CjRNkbMbAC6I",
        "outputId": "1fa09257-b071-4212-c3ae-6b2ef50a2796"
      },
      "source": [
        "df['Spectr_class'].unique()"
      ],
      "execution_count": 85,
      "outputs": [
        {
          "output_type": "execute_result",
          "data": {
            "text/plain": [
              "array([1, 2, 3, 4, 5, 6, 7])"
            ]
          },
          "metadata": {
            "tags": []
          },
          "execution_count": 85
        }
      ]
    },
    {
      "cell_type": "code",
      "metadata": {
        "colab": {
          "base_uri": "https://localhost:8080/",
          "height": 0
        },
        "id": "6sYrz2erAGGP",
        "outputId": "8140286d-7706-4af8-c399-7314e2cf3841"
      },
      "source": [
        "df['Color'].unique()"
      ],
      "execution_count": 86,
      "outputs": [
        {
          "output_type": "execute_result",
          "data": {
            "text/plain": [
              "array(['Red', 'Blue White', 'White', 'Yellowish White',\n",
              "       'Pale yellow orange', 'Blue', 'Blue-white', 'yellow-white',\n",
              "       'Whitish', 'Orange', 'White-Yellow', 'white', 'yellowish',\n",
              "       'Yellowish', 'Orange-Red', 'Blue white', 'Blue-White'],\n",
              "      dtype=object)"
            ]
          },
          "metadata": {
            "tags": []
          },
          "execution_count": 86
        }
      ]
    },
    {
      "cell_type": "code",
      "metadata": {
        "id": "ZNO3szf4AIce"
      },
      "source": [
        "df['Color'] = df['Color'].replace(['Blue-white', 'Blue white', 'Blue-White'], 'Blue White')\n",
        "df['Color'] = df['Color'].replace(['Yellowish White', 'yellow-white', 'White-Yellow'], 'Yellow White')\n",
        "df['Color'] = df['Color'].replace(['white', 'Whitish'], 'White')\n",
        "df['Color'] = df['Color'].replace(['yellowish'], 'Yellowish')\n",
        "df['Color'] = df['Color'].replace(['Pale yellow orange', 'Orange', 'Orange-Red'], 'Yellow Red')"
      ],
      "execution_count": 87,
      "outputs": []
    },
    {
      "cell_type": "code",
      "metadata": {
        "colab": {
          "base_uri": "https://localhost:8080/",
          "height": 0
        },
        "id": "NyBTyODOAKpB",
        "outputId": "cb74b2d5-f406-4823-ab40-0d3b70ca5430"
      },
      "source": [
        "df['Color'].unique()"
      ],
      "execution_count": 88,
      "outputs": [
        {
          "output_type": "execute_result",
          "data": {
            "text/plain": [
              "array(['Red', 'Blue White', 'White', 'Yellow White', 'Yellow Red', 'Blue',\n",
              "       'Yellowish'], dtype=object)"
            ]
          },
          "metadata": {
            "tags": []
          },
          "execution_count": 88
        }
      ]
    },
    {
      "cell_type": "code",
      "metadata": {
        "id": "SP4JqKGbAMhn"
      },
      "source": [
        "df.loc[df['Color'] == 'Red', 'Color'] = 1\n",
        "df.loc[df['Color'] == 'Blue White', 'Color'] = 2\n",
        "df.loc[df['Color'] == 'White', 'Color'] = 3\n",
        "df.loc[df['Color'] == 'Yellow White', 'Color'] = 4\n",
        "df.loc[df['Color'] == 'Yellow Red', 'Color'] = 5\n",
        "df.loc[df['Color'] == 'Blue', 'Color'] = 6\n",
        "df.loc[df['Color'] == 'Yellowish', 'Color'] = 7\n",
        "df['Color'] = pd.to_numeric(df['Color'])"
      ],
      "execution_count": 89,
      "outputs": []
    },
    {
      "cell_type": "code",
      "metadata": {
        "colab": {
          "base_uri": "https://localhost:8080/",
          "height": 0
        },
        "id": "2DgRJirsAOlt",
        "outputId": "04fa6f02-3cf9-4ffe-d6bd-74c81820d9e6"
      },
      "source": [
        "df['Color'].unique()"
      ],
      "execution_count": 90,
      "outputs": [
        {
          "output_type": "execute_result",
          "data": {
            "text/plain": [
              "array([1, 2, 3, 4, 5, 6, 7])"
            ]
          },
          "metadata": {
            "tags": []
          },
          "execution_count": 90
        }
      ]
    },
    {
      "cell_type": "code",
      "metadata": {
        "colab": {
          "base_uri": "https://localhost:8080/",
          "height": 491
        },
        "id": "zd607sY-AQgM",
        "outputId": "a93a0560-f251-4c5c-de90-f58537226d74"
      },
      "source": [
        "df.head(15)"
      ],
      "execution_count": 91,
      "outputs": [
        {
          "output_type": "execute_result",
          "data": {
            "text/html": [
              "<div>\n",
              "<style scoped>\n",
              "    .dataframe tbody tr th:only-of-type {\n",
              "        vertical-align: middle;\n",
              "    }\n",
              "\n",
              "    .dataframe tbody tr th {\n",
              "        vertical-align: top;\n",
              "    }\n",
              "\n",
              "    .dataframe thead th {\n",
              "        text-align: right;\n",
              "    }\n",
              "</style>\n",
              "<table border=\"1\" class=\"dataframe\">\n",
              "  <thead>\n",
              "    <tr style=\"text-align: right;\">\n",
              "      <th></th>\n",
              "      <th>Temperature</th>\n",
              "      <th>Otnosit_yarkost</th>\n",
              "      <th>Otnosit_radius</th>\n",
              "      <th>Abs_Velichina</th>\n",
              "      <th>Color</th>\n",
              "      <th>Spectr_class</th>\n",
              "      <th>Type</th>\n",
              "    </tr>\n",
              "  </thead>\n",
              "  <tbody>\n",
              "    <tr>\n",
              "      <th>0</th>\n",
              "      <td>3068</td>\n",
              "      <td>0.15300</td>\n",
              "      <td>0.170</td>\n",
              "      <td>16.120</td>\n",
              "      <td>1</td>\n",
              "      <td>1</td>\n",
              "      <td>0</td>\n",
              "    </tr>\n",
              "    <tr>\n",
              "      <th>1</th>\n",
              "      <td>3042</td>\n",
              "      <td>0.00050</td>\n",
              "      <td>0.945</td>\n",
              "      <td>16.600</td>\n",
              "      <td>1</td>\n",
              "      <td>1</td>\n",
              "      <td>0</td>\n",
              "    </tr>\n",
              "    <tr>\n",
              "      <th>2</th>\n",
              "      <td>2600</td>\n",
              "      <td>0.00030</td>\n",
              "      <td>0.102</td>\n",
              "      <td>6.228</td>\n",
              "      <td>1</td>\n",
              "      <td>1</td>\n",
              "      <td>0</td>\n",
              "    </tr>\n",
              "    <tr>\n",
              "      <th>3</th>\n",
              "      <td>2800</td>\n",
              "      <td>0.00020</td>\n",
              "      <td>0.945</td>\n",
              "      <td>16.650</td>\n",
              "      <td>1</td>\n",
              "      <td>1</td>\n",
              "      <td>0</td>\n",
              "    </tr>\n",
              "    <tr>\n",
              "      <th>4</th>\n",
              "      <td>1939</td>\n",
              "      <td>0.15300</td>\n",
              "      <td>0.103</td>\n",
              "      <td>20.060</td>\n",
              "      <td>1</td>\n",
              "      <td>1</td>\n",
              "      <td>0</td>\n",
              "    </tr>\n",
              "    <tr>\n",
              "      <th>5</th>\n",
              "      <td>2840</td>\n",
              "      <td>0.00065</td>\n",
              "      <td>0.110</td>\n",
              "      <td>16.980</td>\n",
              "      <td>1</td>\n",
              "      <td>1</td>\n",
              "      <td>0</td>\n",
              "    </tr>\n",
              "    <tr>\n",
              "      <th>6</th>\n",
              "      <td>2637</td>\n",
              "      <td>0.00073</td>\n",
              "      <td>0.127</td>\n",
              "      <td>17.220</td>\n",
              "      <td>1</td>\n",
              "      <td>1</td>\n",
              "      <td>0</td>\n",
              "    </tr>\n",
              "    <tr>\n",
              "      <th>7</th>\n",
              "      <td>2600</td>\n",
              "      <td>0.00040</td>\n",
              "      <td>0.945</td>\n",
              "      <td>17.400</td>\n",
              "      <td>1</td>\n",
              "      <td>1</td>\n",
              "      <td>0</td>\n",
              "    </tr>\n",
              "    <tr>\n",
              "      <th>8</th>\n",
              "      <td>2650</td>\n",
              "      <td>0.00069</td>\n",
              "      <td>0.110</td>\n",
              "      <td>17.450</td>\n",
              "      <td>1</td>\n",
              "      <td>1</td>\n",
              "      <td>0</td>\n",
              "    </tr>\n",
              "    <tr>\n",
              "      <th>9</th>\n",
              "      <td>2700</td>\n",
              "      <td>0.00018</td>\n",
              "      <td>0.945</td>\n",
              "      <td>16.050</td>\n",
              "      <td>1</td>\n",
              "      <td>1</td>\n",
              "      <td>0</td>\n",
              "    </tr>\n",
              "    <tr>\n",
              "      <th>10</th>\n",
              "      <td>3600</td>\n",
              "      <td>0.00290</td>\n",
              "      <td>0.945</td>\n",
              "      <td>10.690</td>\n",
              "      <td>1</td>\n",
              "      <td>1</td>\n",
              "      <td>1</td>\n",
              "    </tr>\n",
              "    <tr>\n",
              "      <th>11</th>\n",
              "      <td>3129</td>\n",
              "      <td>0.01220</td>\n",
              "      <td>0.945</td>\n",
              "      <td>11.790</td>\n",
              "      <td>1</td>\n",
              "      <td>1</td>\n",
              "      <td>1</td>\n",
              "    </tr>\n",
              "    <tr>\n",
              "      <th>12</th>\n",
              "      <td>3134</td>\n",
              "      <td>0.00040</td>\n",
              "      <td>0.196</td>\n",
              "      <td>13.210</td>\n",
              "      <td>1</td>\n",
              "      <td>1</td>\n",
              "      <td>1</td>\n",
              "    </tr>\n",
              "    <tr>\n",
              "      <th>13</th>\n",
              "      <td>3628</td>\n",
              "      <td>0.00550</td>\n",
              "      <td>0.945</td>\n",
              "      <td>10.480</td>\n",
              "      <td>1</td>\n",
              "      <td>1</td>\n",
              "      <td>1</td>\n",
              "    </tr>\n",
              "    <tr>\n",
              "      <th>14</th>\n",
              "      <td>2650</td>\n",
              "      <td>0.00060</td>\n",
              "      <td>0.140</td>\n",
              "      <td>11.782</td>\n",
              "      <td>1</td>\n",
              "      <td>1</td>\n",
              "      <td>1</td>\n",
              "    </tr>\n",
              "  </tbody>\n",
              "</table>\n",
              "</div>"
            ],
            "text/plain": [
              "    Temperature  Otnosit_yarkost  Otnosit_radius  ...  Color  Spectr_class  Type\n",
              "0          3068          0.15300           0.170  ...      1             1     0\n",
              "1          3042          0.00050           0.945  ...      1             1     0\n",
              "2          2600          0.00030           0.102  ...      1             1     0\n",
              "3          2800          0.00020           0.945  ...      1             1     0\n",
              "4          1939          0.15300           0.103  ...      1             1     0\n",
              "5          2840          0.00065           0.110  ...      1             1     0\n",
              "6          2637          0.00073           0.127  ...      1             1     0\n",
              "7          2600          0.00040           0.945  ...      1             1     0\n",
              "8          2650          0.00069           0.110  ...      1             1     0\n",
              "9          2700          0.00018           0.945  ...      1             1     0\n",
              "10         3600          0.00290           0.945  ...      1             1     1\n",
              "11         3129          0.01220           0.945  ...      1             1     1\n",
              "12         3134          0.00040           0.196  ...      1             1     1\n",
              "13         3628          0.00550           0.945  ...      1             1     1\n",
              "14         2650          0.00060           0.140  ...      1             1     1\n",
              "\n",
              "[15 rows x 7 columns]"
            ]
          },
          "metadata": {
            "tags": []
          },
          "execution_count": 91
        }
      ]
    },
    {
      "cell_type": "markdown",
      "metadata": {
        "id": "wJ8YkXK6AVe_"
      },
      "source": [
        "# **Нормализация числовых признаков**"
      ]
    },
    {
      "cell_type": "code",
      "metadata": {
        "colab": {
          "base_uri": "https://localhost:8080/",
          "height": 1154
        },
        "id": "UQkEmhrXAS53",
        "outputId": "493b1055-5f25-46a5-9336-a91b5855b45b"
      },
      "source": [
        "df_new = df.copy()\n",
        "df_new.hist(figsize=(20,20))\n",
        "plt.show()"
      ],
      "execution_count": 92,
      "outputs": [
        {
          "output_type": "display_data",
          "data": {
            "image/png": "[encoded data removed]",
            "text/plain": [
              "<Figure size 1440x1440 with 9 Axes>"
            ]
          },
          "metadata": {
            "tags": []
          }
        }
      ]
    },
    {
      "cell_type": "code",
      "metadata": {
        "colab": {
          "base_uri": "https://localhost:8080/",
          "height": 1196
        },
        "id": "gEp8gr16AdQy",
        "outputId": "a57cb3d5-b9a8-44f5-9f7d-9d7246affd38"
      },
      "source": [
        "df_new['Temperature'] = np.log(df_new['Temperature'])\n",
        "df_new['Otnosit_yarkost'] = np.log(df_new['Otnosit_yarkost'])\n",
        "df_new['Otnosit_radius'] = np.log(df_new['Otnosit_radius'])\n",
        "\n",
        "diagnostic_plots(df_new, 'Temperature')\n",
        "diagnostic_plots(df_new, 'Otnosit_yarkost')\n",
        "diagnostic_plots(df_new, 'Otnosit_radius')"
      ],
      "execution_count": 93,
      "outputs": [
        {
          "output_type": "display_data",
          "data": {
            "image/png": "[encoded data removed]",
            "text/plain": [
              "<Figure size 1080x432 with 2 Axes>"
            ]
          },
          "metadata": {
            "tags": []
          }
        },
        {
          "output_type": "display_data",
          "data": {
            "image/png": "[encoded data removed]",
            "text/plain": [
              "<Figure size 1080x432 with 2 Axes>"
            ]
          },
          "metadata": {
            "tags": []
          }
        },
        {
          "output_type": "display_data",
          "data": {
            "image/png": "[encoded data removed]",
            "text/plain": [
              "<Figure size 1080x432 with 2 Axes>"
            ]
          },
          "metadata": {
            "tags": []
          }
        }
      ]
    },
    {
      "cell_type": "markdown",
      "metadata": {
        "id": "bZKRV5zWAl7w"
      },
      "source": [
        "# **Масштабирование признаков**"
      ]
    },
    {
      "cell_type": "code",
      "metadata": {
        "colab": {
          "base_uri": "https://localhost:8080/",
          "height": 284
        },
        "id": "WcmAJwSxAizx",
        "outputId": "ead613a8-8481-46b4-8d21-9fff5293d753"
      },
      "source": [
        "# Нужно ли масштабирование\n",
        "df_new.describe()"
      ],
      "execution_count": 94,
      "outputs": [
        {
          "output_type": "execute_result",
          "data": {
            "text/html": [
              "<div>\n",
              "<style scoped>\n",
              "    .dataframe tbody tr th:only-of-type {\n",
              "        vertical-align: middle;\n",
              "    }\n",
              "\n",
              "    .dataframe tbody tr th {\n",
              "        vertical-align: top;\n",
              "    }\n",
              "\n",
              "    .dataframe thead th {\n",
              "        text-align: right;\n",
              "    }\n",
              "</style>\n",
              "<table border=\"1\" class=\"dataframe\">\n",
              "  <thead>\n",
              "    <tr style=\"text-align: right;\">\n",
              "      <th></th>\n",
              "      <th>Temperature</th>\n",
              "      <th>Otnosit_yarkost</th>\n",
              "      <th>Otnosit_radius</th>\n",
              "      <th>Abs_Velichina</th>\n",
              "      <th>Color</th>\n",
              "      <th>Spectr_class</th>\n",
              "      <th>Type</th>\n",
              "    </tr>\n",
              "  </thead>\n",
              "  <tbody>\n",
              "    <tr>\n",
              "      <th>count</th>\n",
              "      <td>240.000000</td>\n",
              "      <td>240.000000</td>\n",
              "      <td>240.000000</td>\n",
              "      <td>240.000000</td>\n",
              "      <td>240.000000</td>\n",
              "      <td>240.000000</td>\n",
              "      <td>240.000000</td>\n",
              "    </tr>\n",
              "    <tr>\n",
              "      <th>mean</th>\n",
              "      <td>8.880989</td>\n",
              "      <td>1.684978</td>\n",
              "      <td>0.790533</td>\n",
              "      <td>4.272204</td>\n",
              "      <td>2.700000</td>\n",
              "      <td>2.379167</td>\n",
              "      <td>2.500000</td>\n",
              "    </tr>\n",
              "    <tr>\n",
              "      <th>std</th>\n",
              "      <td>0.857104</td>\n",
              "      <td>9.088714</td>\n",
              "      <td>3.892261</td>\n",
              "      <td>10.461630</td>\n",
              "      <td>2.108362</td>\n",
              "      <td>1.642144</td>\n",
              "      <td>1.711394</td>\n",
              "    </tr>\n",
              "    <tr>\n",
              "      <th>min</th>\n",
              "      <td>7.569928</td>\n",
              "      <td>-9.433484</td>\n",
              "      <td>-4.779524</td>\n",
              "      <td>-11.920000</td>\n",
              "      <td>1.000000</td>\n",
              "      <td>1.000000</td>\n",
              "      <td>0.000000</td>\n",
              "    </tr>\n",
              "    <tr>\n",
              "      <th>25%</th>\n",
              "      <td>8.114998</td>\n",
              "      <td>-7.038446</td>\n",
              "      <td>-2.207275</td>\n",
              "      <td>-6.232500</td>\n",
              "      <td>1.000000</td>\n",
              "      <td>1.000000</td>\n",
              "      <td>1.000000</td>\n",
              "    </tr>\n",
              "    <tr>\n",
              "      <th>50%</th>\n",
              "      <td>8.661458</td>\n",
              "      <td>-1.877317</td>\n",
              "      <td>-0.056570</td>\n",
              "      <td>6.228000</td>\n",
              "      <td>2.000000</td>\n",
              "      <td>2.000000</td>\n",
              "      <td>2.500000</td>\n",
              "    </tr>\n",
              "    <tr>\n",
              "      <th>75%</th>\n",
              "      <td>9.619463</td>\n",
              "      <td>12.196275</td>\n",
              "      <td>3.754918</td>\n",
              "      <td>13.564250</td>\n",
              "      <td>5.000000</td>\n",
              "      <td>4.000000</td>\n",
              "      <td>4.000000</td>\n",
              "    </tr>\n",
              "    <tr>\n",
              "      <th>max</th>\n",
              "      <td>10.596635</td>\n",
              "      <td>13.652309</td>\n",
              "      <td>7.574815</td>\n",
              "      <td>20.060000</td>\n",
              "      <td>7.000000</td>\n",
              "      <td>7.000000</td>\n",
              "      <td>5.000000</td>\n",
              "    </tr>\n",
              "  </tbody>\n",
              "</table>\n",
              "</div>"
            ],
            "text/plain": [
              "       Temperature  Otnosit_yarkost  ...  Spectr_class        Type\n",
              "count   240.000000       240.000000  ...    240.000000  240.000000\n",
              "mean      8.880989         1.684978  ...      2.379167    2.500000\n",
              "std       0.857104         9.088714  ...      1.642144    1.711394\n",
              "min       7.569928        -9.433484  ...      1.000000    0.000000\n",
              "25%       8.114998        -7.038446  ...      1.000000    1.000000\n",
              "50%       8.661458        -1.877317  ...      2.000000    2.500000\n",
              "75%       9.619463        12.196275  ...      4.000000    4.000000\n",
              "max      10.596635        13.652309  ...      7.000000    5.000000\n",
              "\n",
              "[8 rows x 7 columns]"
            ]
          },
          "metadata": {
            "tags": []
          },
          "execution_count": 94
        }
      ]
    },
    {
      "cell_type": "code",
      "metadata": {
        "id": "ZVMEQVGAAqSt"
      },
      "source": [
        "# DataFrame не содержащий целевой признак. Здесь введём и далее будем использовать новую выборку \n",
        "# для дальнейшего сравнения обучения моделей\n",
        "df_ne_cel = df_new.drop('Type', axis=1)"
      ],
      "execution_count": 95,
      "outputs": []
    },
    {
      "cell_type": "code",
      "metadata": {
        "id": "e7zmZ15aAtok"
      },
      "source": [
        "# Функция для восстановления датафрейма на основе масштабированных данных\n",
        "def arr_to_df(arr_scaled):\n",
        "    res = pd.DataFrame(arr_scaled, columns=df_ne_cel.columns)\n",
        "    return res"
      ],
      "execution_count": 96,
      "outputs": []
    },
    {
      "cell_type": "code",
      "metadata": {
        "id": "yk5_TA0lAvv8"
      },
      "source": [
        "# Деление выборки на обучающую и тестовую\n",
        "X_train, X_test, y_train, y_test = train_test_split(\n",
        "    df_ne_cel, df_new['Type'], test_size= 0.2, random_state= 1)"
      ],
      "execution_count": 97,
      "outputs": []
    },
    {
      "cell_type": "code",
      "metadata": {
        "colab": {
          "base_uri": "https://localhost:8080/",
          "height": 0
        },
        "id": "fZKPPb7rAxa-",
        "outputId": "a8fbcbf6-6ad9-4880-d715-13fec5a00bd4"
      },
      "source": [
        "# Размер обучающей выборки\n",
        "X_train.shape, y_train.shape"
      ],
      "execution_count": 98,
      "outputs": [
        {
          "output_type": "execute_result",
          "data": {
            "text/plain": [
              "((192, 6), (192,))"
            ]
          },
          "metadata": {
            "tags": []
          },
          "execution_count": 98
        }
      ]
    },
    {
      "cell_type": "code",
      "metadata": {
        "colab": {
          "base_uri": "https://localhost:8080/",
          "height": 0
        },
        "id": "meFJWK_xAzL-",
        "outputId": "24735b00-460b-43b9-e95e-5a0b8f5f7baf"
      },
      "source": [
        "# Размер тестовой выборки\n",
        "X_test.shape, y_test.shape"
      ],
      "execution_count": 99,
      "outputs": [
        {
          "output_type": "execute_result",
          "data": {
            "text/plain": [
              "((48, 6), (48,))"
            ]
          },
          "metadata": {
            "tags": []
          },
          "execution_count": 99
        }
      ]
    },
    {
      "cell_type": "code",
      "metadata": {
        "colab": {
          "base_uri": "https://localhost:8080/",
          "height": 0
        },
        "id": "BkJmAbI-A1Fv",
        "outputId": "8095078f-5350-4179-c8d8-082edb75d9ef"
      },
      "source": [
        "# Преобразуем массивы в DataFrame\n",
        "X_train_df = arr_to_df(X_train)\n",
        "X_test_df = arr_to_df(X_test)\n",
        "\n",
        "X_train_df.shape, X_test_df.shape"
      ],
      "execution_count": 100,
      "outputs": [
        {
          "output_type": "execute_result",
          "data": {
            "text/plain": [
              "((192, 6), (48, 6))"
            ]
          },
          "metadata": {
            "tags": []
          },
          "execution_count": 100
        }
      ]
    },
    {
      "cell_type": "markdown",
      "metadata": {
        "id": "MJfw3mmlA5Zi"
      },
      "source": [
        "**Min-Max Масштабирование**"
      ]
    },
    {
      "cell_type": "code",
      "metadata": {
        "colab": {
          "base_uri": "https://localhost:8080/",
          "height": 284
        },
        "id": "lnsekNS6A3JM",
        "outputId": "c2dd9874-6008-40c1-90a7-1ab076d2afd0"
      },
      "source": [
        "# Обучаем StandardScaler на всей выборке и масштабируем\n",
        "cs31 = MinMaxScaler()\n",
        "data_cs31_scaled_temp = cs31.fit_transform(df_ne_cel)\n",
        "# формируем DataFrame на основе массива\n",
        "data_cs31_scaled = arr_to_df(data_cs31_scaled_temp)\n",
        "data_cs31_scaled.describe()"
      ],
      "execution_count": 101,
      "outputs": [
        {
          "output_type": "execute_result",
          "data": {
            "text/html": [
              "<div>\n",
              "<style scoped>\n",
              "    .dataframe tbody tr th:only-of-type {\n",
              "        vertical-align: middle;\n",
              "    }\n",
              "\n",
              "    .dataframe tbody tr th {\n",
              "        vertical-align: top;\n",
              "    }\n",
              "\n",
              "    .dataframe thead th {\n",
              "        text-align: right;\n",
              "    }\n",
              "</style>\n",
              "<table border=\"1\" class=\"dataframe\">\n",
              "  <thead>\n",
              "    <tr style=\"text-align: right;\">\n",
              "      <th></th>\n",
              "      <th>Temperature</th>\n",
              "      <th>Otnosit_yarkost</th>\n",
              "      <th>Otnosit_radius</th>\n",
              "      <th>Abs_Velichina</th>\n",
              "      <th>Color</th>\n",
              "      <th>Spectr_class</th>\n",
              "    </tr>\n",
              "  </thead>\n",
              "  <tbody>\n",
              "    <tr>\n",
              "      <th>count</th>\n",
              "      <td>240.000000</td>\n",
              "      <td>240.000000</td>\n",
              "      <td>240.000000</td>\n",
              "      <td>240.000000</td>\n",
              "      <td>240.000000</td>\n",
              "      <td>240.000000</td>\n",
              "    </tr>\n",
              "    <tr>\n",
              "      <th>mean</th>\n",
              "      <td>0.433164</td>\n",
              "      <td>0.481615</td>\n",
              "      <td>0.450858</td>\n",
              "      <td>0.506323</td>\n",
              "      <td>0.283333</td>\n",
              "      <td>0.229861</td>\n",
              "    </tr>\n",
              "    <tr>\n",
              "      <th>std</th>\n",
              "      <td>0.283180</td>\n",
              "      <td>0.393693</td>\n",
              "      <td>0.315052</td>\n",
              "      <td>0.327130</td>\n",
              "      <td>0.351394</td>\n",
              "      <td>0.273691</td>\n",
              "    </tr>\n",
              "    <tr>\n",
              "      <th>min</th>\n",
              "      <td>0.000000</td>\n",
              "      <td>0.000000</td>\n",
              "      <td>0.000000</td>\n",
              "      <td>0.000000</td>\n",
              "      <td>0.000000</td>\n",
              "      <td>0.000000</td>\n",
              "    </tr>\n",
              "    <tr>\n",
              "      <th>25%</th>\n",
              "      <td>0.180087</td>\n",
              "      <td>0.103745</td>\n",
              "      <td>0.208206</td>\n",
              "      <td>0.177846</td>\n",
              "      <td>0.000000</td>\n",
              "      <td>0.000000</td>\n",
              "    </tr>\n",
              "    <tr>\n",
              "      <th>50%</th>\n",
              "      <td>0.360633</td>\n",
              "      <td>0.327308</td>\n",
              "      <td>0.382291</td>\n",
              "      <td>0.567480</td>\n",
              "      <td>0.166667</td>\n",
              "      <td>0.166667</td>\n",
              "    </tr>\n",
              "    <tr>\n",
              "      <th>75%</th>\n",
              "      <td>0.677150</td>\n",
              "      <td>0.936929</td>\n",
              "      <td>0.690805</td>\n",
              "      <td>0.796881</td>\n",
              "      <td>0.666667</td>\n",
              "      <td>0.500000</td>\n",
              "    </tr>\n",
              "    <tr>\n",
              "      <th>max</th>\n",
              "      <td>1.000000</td>\n",
              "      <td>1.000000</td>\n",
              "      <td>1.000000</td>\n",
              "      <td>1.000000</td>\n",
              "      <td>1.000000</td>\n",
              "      <td>1.000000</td>\n",
              "    </tr>\n",
              "  </tbody>\n",
              "</table>\n",
              "</div>"
            ],
            "text/plain": [
              "       Temperature  Otnosit_yarkost  ...       Color  Spectr_class\n",
              "count   240.000000       240.000000  ...  240.000000    240.000000\n",
              "mean      0.433164         0.481615  ...    0.283333      0.229861\n",
              "std       0.283180         0.393693  ...    0.351394      0.273691\n",
              "min       0.000000         0.000000  ...    0.000000      0.000000\n",
              "25%       0.180087         0.103745  ...    0.000000      0.000000\n",
              "50%       0.360633         0.327308  ...    0.166667      0.166667\n",
              "75%       0.677150         0.936929  ...    0.666667      0.500000\n",
              "max       1.000000         1.000000  ...    1.000000      1.000000\n",
              "\n",
              "[8 rows x 6 columns]"
            ]
          },
          "metadata": {
            "tags": []
          },
          "execution_count": 101
        }
      ]
    },
    {
      "cell_type": "code",
      "metadata": {
        "id": "i14yqEMQA-kj"
      },
      "source": [
        "cs32 = MinMaxScaler()\n",
        "cs32.fit(X_train)\n",
        "data_cs32_scaled_train_temp = cs32.transform(X_train)\n",
        "data_cs32_scaled_test_temp = cs32.transform(X_test)\n",
        "# формируем DataFrame на основе массива\n",
        "data_cs32_scaled_train = arr_to_df(data_cs32_scaled_train_temp)\n",
        "data_cs32_scaled_test = arr_to_df(data_cs32_scaled_test_temp)"
      ],
      "execution_count": 102,
      "outputs": []
    },
    {
      "cell_type": "code",
      "metadata": {
        "colab": {
          "base_uri": "https://localhost:8080/",
          "height": 338
        },
        "id": "Q55DfCllBAw4",
        "outputId": "33ef4146-7940-47d7-e95b-e847fb63da9d"
      },
      "source": [
        "draw_kde(['Temperature', 'Otnosit_yarkost', 'Otnosit_radius', 'Abs_Velichina', 'Color', 'Spectr_class'], df_new, data_cs31_scaled, 'до масштабирования', 'после масштабирования')"
      ],
      "execution_count": 103,
      "outputs": [
        {
          "output_type": "display_data",
          "data": {
            "image/png": "[encoded data removed]",
            "text/plain": [
              "<Figure size 864x360 with 2 Axes>"
            ]
          },
          "metadata": {
            "tags": []
          }
        }
      ]
    },
    {
      "cell_type": "code",
      "metadata": {
        "colab": {
          "base_uri": "https://localhost:8080/",
          "height": 338
        },
        "id": "oXEtI_-EBEHR",
        "outputId": "eeb4fb48-1f37-4a2f-8d82-dd30ae854827"
      },
      "source": [
        "draw_kde(['Temperature', 'Otnosit_yarkost', 'Otnosit_radius', 'Abs_Velichina', 'Color', 'Spectr_class'], data_cs32_scaled_train, data_cs32_scaled_test, 'обучающая', 'тестовая')"
      ],
      "execution_count": 104,
      "outputs": [
        {
          "output_type": "display_data",
          "data": {
            "image/png": "[encoded data removed]",
            "text/plain": [
              "<Figure size 864x360 with 2 Axes>"
            ]
          },
          "metadata": {
            "tags": []
          }
        }
      ]
    },
    {
      "cell_type": "markdown",
      "metadata": {
        "id": "7F3t5aPMBJph"
      },
      "source": [
        "# **Отбор признаков**\n",
        "Filter methods"
      ]
    },
    {
      "cell_type": "code",
      "metadata": {
        "colab": {
          "base_uri": "https://localhost:8080/",
          "height": 365
        },
        "id": "2F8vhojQBHJ8",
        "outputId": "70d31bff-31a1-4924-fb04-5748a672d8c3"
      },
      "source": [
        "sns.heatmap(df_ne_cel.corr(), annot=True, fmt='.3f')"
      ],
      "execution_count": 105,
      "outputs": [
        {
          "output_type": "execute_result",
          "data": {
            "text/plain": [
              "<matplotlib.axes._subplots.AxesSubplot at 0x7f4c12d6eb50>"
            ]
          },
          "metadata": {
            "tags": []
          },
          "execution_count": 105
        },
        {
          "output_type": "display_data",
          "data": {
            "image/png": "[encoded data removed]",
            "text/plain": [
              "<Figure size 432x288 with 2 Axes>"
            ]
          },
          "metadata": {
            "tags": []
          }
        }
      ]
    },
    {
      "cell_type": "code",
      "metadata": {
        "id": "4z9GaglIBQ_V"
      },
      "source": [
        "def make_corr_df(df):\n",
        "    cr = df.corr()\n",
        "    cr = cr.abs().unstack() \n",
        "    cr = cr.sort_values(ascending=False)\n",
        "    cr = cr[cr >= 0.5]\n",
        "    cr = cr[cr < 1]\n",
        "    cr = pd.DataFrame(cr).reset_index()\n",
        "    cr.columns = ['f1', 'f2', 'corr']\n",
        "    return cr"
      ],
      "execution_count": 106,
      "outputs": []
    },
    {
      "cell_type": "code",
      "metadata": {
        "colab": {
          "base_uri": "https://localhost:8080/",
          "height": 402
        },
        "id": "yopsqUlgBT0i",
        "outputId": "a0aeaab2-348f-46c2-b86f-26555791fae2"
      },
      "source": [
        "make_corr_df(df_ne_cel)"
      ],
      "execution_count": 107,
      "outputs": [
        {
          "output_type": "execute_result",
          "data": {
            "text/html": [
              "<div>\n",
              "<style scoped>\n",
              "    .dataframe tbody tr th:only-of-type {\n",
              "        vertical-align: middle;\n",
              "    }\n",
              "\n",
              "    .dataframe tbody tr th {\n",
              "        vertical-align: top;\n",
              "    }\n",
              "\n",
              "    .dataframe thead th {\n",
              "        text-align: right;\n",
              "    }\n",
              "</style>\n",
              "<table border=\"1\" class=\"dataframe\">\n",
              "  <thead>\n",
              "    <tr style=\"text-align: right;\">\n",
              "      <th></th>\n",
              "      <th>f1</th>\n",
              "      <th>f2</th>\n",
              "      <th>corr</th>\n",
              "    </tr>\n",
              "  </thead>\n",
              "  <tbody>\n",
              "    <tr>\n",
              "      <th>0</th>\n",
              "      <td>Otnosit_yarkost</td>\n",
              "      <td>Abs_Velichina</td>\n",
              "      <td>0.968208</td>\n",
              "    </tr>\n",
              "    <tr>\n",
              "      <th>1</th>\n",
              "      <td>Abs_Velichina</td>\n",
              "      <td>Otnosit_yarkost</td>\n",
              "      <td>0.968208</td>\n",
              "    </tr>\n",
              "    <tr>\n",
              "      <th>2</th>\n",
              "      <td>Otnosit_yarkost</td>\n",
              "      <td>Otnosit_radius</td>\n",
              "      <td>0.905371</td>\n",
              "    </tr>\n",
              "    <tr>\n",
              "      <th>3</th>\n",
              "      <td>Otnosit_radius</td>\n",
              "      <td>Otnosit_yarkost</td>\n",
              "      <td>0.905371</td>\n",
              "    </tr>\n",
              "    <tr>\n",
              "      <th>4</th>\n",
              "      <td>Otnosit_radius</td>\n",
              "      <td>Abs_Velichina</td>\n",
              "      <td>0.894831</td>\n",
              "    </tr>\n",
              "    <tr>\n",
              "      <th>5</th>\n",
              "      <td>Abs_Velichina</td>\n",
              "      <td>Otnosit_radius</td>\n",
              "      <td>0.894831</td>\n",
              "    </tr>\n",
              "    <tr>\n",
              "      <th>6</th>\n",
              "      <td>Spectr_class</td>\n",
              "      <td>Color</td>\n",
              "      <td>0.800388</td>\n",
              "    </tr>\n",
              "    <tr>\n",
              "      <th>7</th>\n",
              "      <td>Color</td>\n",
              "      <td>Spectr_class</td>\n",
              "      <td>0.800388</td>\n",
              "    </tr>\n",
              "    <tr>\n",
              "      <th>8</th>\n",
              "      <td>Temperature</td>\n",
              "      <td>Color</td>\n",
              "      <td>0.709379</td>\n",
              "    </tr>\n",
              "    <tr>\n",
              "      <th>9</th>\n",
              "      <td>Color</td>\n",
              "      <td>Temperature</td>\n",
              "      <td>0.709379</td>\n",
              "    </tr>\n",
              "    <tr>\n",
              "      <th>10</th>\n",
              "      <td>Temperature</td>\n",
              "      <td>Spectr_class</td>\n",
              "      <td>0.615497</td>\n",
              "    </tr>\n",
              "    <tr>\n",
              "      <th>11</th>\n",
              "      <td>Spectr_class</td>\n",
              "      <td>Temperature</td>\n",
              "      <td>0.615497</td>\n",
              "    </tr>\n",
              "  </tbody>\n",
              "</table>\n",
              "</div>"
            ],
            "text/plain": [
              "                 f1               f2      corr\n",
              "0   Otnosit_yarkost    Abs_Velichina  0.968208\n",
              "1     Abs_Velichina  Otnosit_yarkost  0.968208\n",
              "2   Otnosit_yarkost   Otnosit_radius  0.905371\n",
              "3    Otnosit_radius  Otnosit_yarkost  0.905371\n",
              "4    Otnosit_radius    Abs_Velichina  0.894831\n",
              "5     Abs_Velichina   Otnosit_radius  0.894831\n",
              "6      Spectr_class            Color  0.800388\n",
              "7             Color     Spectr_class  0.800388\n",
              "8       Temperature            Color  0.709379\n",
              "9             Color      Temperature  0.709379\n",
              "10      Temperature     Spectr_class  0.615497\n",
              "11     Spectr_class      Temperature  0.615497"
            ]
          },
          "metadata": {
            "tags": []
          },
          "execution_count": 107
        }
      ]
    },
    {
      "cell_type": "markdown",
      "metadata": {
        "id": "9ouPHwWsBa8f"
      },
      "source": [
        "# **Обнаружение групп коррелирующих признаков**"
      ]
    },
    {
      "cell_type": "code",
      "metadata": {
        "id": "jmvRHSV8BWoa"
      },
      "source": [
        "def corr_groups(cr):\n",
        "    grouped_feature_list = []\n",
        "    correlated_groups = []\n",
        "\n",
        "    for feature in cr['f1'].unique():\n",
        "        if feature not in grouped_feature_list:\n",
        "            # находим коррелирующие признаки\n",
        "            correlated_block = cr[cr['f1'] == feature]\n",
        "            cur_dups = list(correlated_block['f2'].unique()) + [feature]\n",
        "            grouped_feature_list = grouped_feature_list + cur_dups\n",
        "            correlated_groups.append(cur_dups)\n",
        "    return correlated_groups"
      ],
      "execution_count": 108,
      "outputs": []
    },
    {
      "cell_type": "code",
      "metadata": {
        "colab": {
          "base_uri": "https://localhost:8080/",
          "height": 0
        },
        "id": "unx3jzI7Be2Y",
        "outputId": "64e9a8c3-9e72-43d4-f783-9becb09c3446"
      },
      "source": [
        "# Группы коррелирующих признаков\n",
        "corr_groups(make_corr_df(df_ne_cel))"
      ],
      "execution_count": 109,
      "outputs": [
        {
          "output_type": "execute_result",
          "data": {
            "text/plain": [
              "[['Abs_Velichina', 'Otnosit_radius', 'Otnosit_yarkost'],\n",
              " ['Color', 'Temperature', 'Spectr_class']]"
            ]
          },
          "metadata": {
            "tags": []
          },
          "execution_count": 109
        }
      ]
    },
    {
      "cell_type": "markdown",
      "metadata": {
        "id": "zDcxtADgBj9r"
      },
      "source": [
        "# **Обучение модели и оценка метрики**"
      ]
    },
    {
      "cell_type": "markdown",
      "metadata": {
        "id": "gwZNJaxxBmaG"
      },
      "source": [
        "**Для исходной выборки**"
      ]
    },
    {
      "cell_type": "code",
      "metadata": {
        "colab": {
          "base_uri": "https://localhost:8080/",
          "height": 0
        },
        "id": "JqXMbv9TBhPD",
        "outputId": "335e3b50-d3fc-40b4-b1c7-c8e71f36d483"
      },
      "source": [
        "# Разделим выборку на обучающую и тестовую\n",
        "X_train_basic, X_test_basic, y_train_basic, y_test_basic = train_test_split(\n",
        "    df_new, df_new['Type'], test_size=0.2, random_state=1)\n",
        "\n",
        "# Преобразуем массивы в DataFrame\n",
        "X_train_basic_df = arr_to_df(X_train_basic)\n",
        "X_test_basic_df = arr_to_df(X_test_basic)\n",
        "\n",
        "X_train_basic_df.shape, X_test_basic_df.shape"
      ],
      "execution_count": 110,
      "outputs": [
        {
          "output_type": "execute_result",
          "data": {
            "text/plain": [
              "((192, 6), (48, 6))"
            ]
          },
          "metadata": {
            "tags": []
          },
          "execution_count": 110
        }
      ]
    },
    {
      "cell_type": "markdown",
      "metadata": {
        "id": "SASf2ZFoBuSp"
      },
      "source": [
        "**Для улучшенной выборки**"
      ]
    },
    {
      "cell_type": "code",
      "metadata": {
        "colab": {
          "base_uri": "https://localhost:8080/",
          "height": 0
        },
        "id": "DiLLpfBEBv_c",
        "outputId": "e8275acf-5e47-4682-a64e-fdd0ff57a23c"
      },
      "source": [
        "# Разделим выборку на обучающую и тестовую\n",
        "X_train_upgrade, X_test_upgrade, y_train_upgrade, y_test_upgrade = train_test_split(\n",
        "    df_ne_cel, df_new['Type'], test_size=0.2, random_state=1)\n",
        "\n",
        "# Преобразуем массивы в DataFrame\n",
        "X_train_upgrade_df_new = arr_to_df(X_train_upgrade)\n",
        "X_test_upgrade_df_new = arr_to_df(X_test_upgrade)\n",
        "\n",
        "X_train_upgrade_df_new.shape, X_test_upgrade_df_new.shape"
      ],
      "execution_count": 111,
      "outputs": [
        {
          "output_type": "execute_result",
          "data": {
            "text/plain": [
              "((192, 6), (48, 6))"
            ]
          },
          "metadata": {
            "tags": []
          },
          "execution_count": 111
        }
      ]
    },
    {
      "cell_type": "code",
      "metadata": {
        "id": "-EipkwN3ByjK"
      },
      "source": [
        "class MetricLogger:\n",
        "    \n",
        "    def __init__(self):\n",
        "        self.df = pd.DataFrame(\n",
        "            {'metric': pd.Series([], dtype='str'),\n",
        "            'alg': pd.Series([], dtype='str'),\n",
        "            'value': pd.Series([], dtype='float')})\n",
        "\n",
        "    def add(self, metric, alg, value):\n",
        "        \"\"\"\n",
        "        Добавление значения\n",
        "        \"\"\"\n",
        "        # Удаление значения если оно уже было ранее добавлено\n",
        "        self.df.drop(self.df[(self.df['metric']==metric)&(self.df['alg']==alg)].index, inplace = True)\n",
        "        # Добавление нового значения\n",
        "        temp = [{'metric':metric, 'alg':alg, 'value':value}]\n",
        "        self.df = self.df.append(temp, ignore_index=True)\n",
        "\n",
        "    def get_data_for_metric(self, metric, ascending=True):\n",
        "        \"\"\"\n",
        "        Формирование данных с фильтром по метрике\n",
        "        \"\"\"\n",
        "        temp_data = self.df[self.df['metric']==metric]\n",
        "        temp_data_2 = temp_data.sort_values(by='value', ascending=ascending)\n",
        "        return temp_data_2['alg'].values, temp_data_2['value'].values\n",
        "    \n",
        "    def plot(self, str_header, metric, ascending=True, figsize=(5, 5)):\n",
        "        \"\"\"\n",
        "        Вывод графика\n",
        "        \"\"\"\n",
        "        array_labels, array_metric = self.get_data_for_metric(metric, ascending)\n",
        "        fig, ax1 = plt.subplots(figsize=figsize)\n",
        "        pos = np.arange(len(array_metric))\n",
        "        rects = ax1.barh(pos, array_metric,\n",
        "                         align='center',\n",
        "                         height=0.5, \n",
        "                         tick_label=array_labels)\n",
        "        ax1.set_title(str_header)\n",
        "        for a,b in zip(pos, array_metric):\n",
        "            plt.text(0.5, a-0.05, str(round(b,3)), color='white')\n",
        "        plt.xscale('log')\n",
        "        plt.show()"
      ],
      "execution_count": 112,
      "outputs": []
    },
    {
      "cell_type": "code",
      "metadata": {
        "id": "LLu_8QzMB04V"
      },
      "source": [
        "clas_models_dict = {'LinR': LogisticRegression(), \n",
        "                    'KNN_5':KNeighborsClassifier(n_neighbors=5),\n",
        "                    'Tree':DecisionTreeClassifier(random_state=1),\n",
        "                    'GB': GradientBoostingClassifier(random_state=1),\n",
        "                    'RF':RandomForestClassifier(n_estimators=20, random_state=1)}"
      ],
      "execution_count": 125,
      "outputs": []
    },
    {
      "cell_type": "code",
      "metadata": {
        "id": "morZvPl8B2_A"
      },
      "source": [
        "X_data_dict = {'Basic': (X_train_basic_df, X_test_basic_df),\n",
        "               'Upgrade': (X_train_upgrade_df_new, X_test_upgrade_df_new)}"
      ],
      "execution_count": 126,
      "outputs": []
    },
    {
      "cell_type": "code",
      "metadata": {
        "id": "93CKmaf0B5A6"
      },
      "source": [
        "from sklearn.metrics import f1_score, recall_score\n",
        "def test_models(clas_models_dict, X_data_dict, y_train, y_test):\n",
        "    \n",
        "    logger = MetricLogger()\n",
        "    \n",
        "    for model_name, model in clas_models_dict.items():\n",
        "        \n",
        "        for data_name, data_tuple in X_data_dict.items():\n",
        "\n",
        "            X_train, X_test = data_tuple\n",
        "              \n",
        "            model.fit(X_train, y_train)\n",
        "            y_pred = model.predict(X_test)\n",
        "            # mse = mean_squared_error(y_test, y_pred)/\n",
        "            f1_res = f1_score(y_test, y_pred, average='weighted')\n",
        "            print(model, f1_res)\n",
        "            logger.add(model_name, data_name, f1_res)\n",
        "            \n",
        "    return logger"
      ],
      "execution_count": 127,
      "outputs": []
    },
    {
      "cell_type": "code",
      "metadata": {
        "colab": {
          "base_uri": "https://localhost:8080/",
          "height": 0
        },
        "id": "hkcwud__B7Qv",
        "outputId": "352324ae-bbcd-450f-d377-d4a6544a6af9"
      },
      "source": [
        "%%time\n",
        "logger = test_models(clas_models_dict, X_data_dict, y_train_basic, y_test_basic)"
      ],
      "execution_count": 128,
      "outputs": [
        {
          "output_type": "stream",
          "text": [
            "/usr/local/lib/python3.7/dist-packages/sklearn/linear_model/_logistic.py:765: ConvergenceWarning:\n",
            "\n",
            "lbfgs failed to converge (status=1):\n",
            "STOP: TOTAL NO. of ITERATIONS REACHED LIMIT.\n",
            "\n",
            "Increase the number of iterations (max_iter) or scale the data as shown in:\n",
            "    https://scikit-learn.org/stable/modules/preprocessing.html\n",
            "Please also refer to the documentation for alternative solver options:\n",
            "    https://scikit-learn.org/stable/modules/linear_model.html#logistic-regression\n",
            "\n",
            "/usr/local/lib/python3.7/dist-packages/sklearn/linear_model/_logistic.py:765: ConvergenceWarning:\n",
            "\n",
            "lbfgs failed to converge (status=1):\n",
            "STOP: TOTAL NO. of ITERATIONS REACHED LIMIT.\n",
            "\n",
            "Increase the number of iterations (max_iter) or scale the data as shown in:\n",
            "    https://scikit-learn.org/stable/modules/preprocessing.html\n",
            "Please also refer to the documentation for alternative solver options:\n",
            "    https://scikit-learn.org/stable/modules/linear_model.html#logistic-regression\n",
            "\n"
          ],
          "name": "stderr"
        },
        {
          "output_type": "stream",
          "text": [
            "LogisticRegression() 1.0\n",
            "LogisticRegression() 1.0\n",
            "KNeighborsClassifier() 0.9396739130434782\n",
            "KNeighborsClassifier() 0.9396739130434782\n",
            "DecisionTreeClassifier(random_state=1) 1.0\n",
            "DecisionTreeClassifier(random_state=1) 1.0\n",
            "GradientBoostingClassifier(random_state=1) 1.0\n",
            "GradientBoostingClassifier(random_state=1) 1.0\n",
            "RandomForestClassifier(n_estimators=20, random_state=1) 1.0\n",
            "RandomForestClassifier(n_estimators=20, random_state=1) 1.0\n",
            "CPU times: user 1.32 s, sys: 2.77 ms, total: 1.32 s\n",
            "Wall time: 1.33 s\n"
          ],
          "name": "stdout"
        }
      ]
    },
    {
      "cell_type": "markdown",
      "metadata": {
        "id": "AYzaISbVB_xe"
      },
      "source": [
        "**Построим графики метрик качества модели**"
      ]
    },
    {
      "cell_type": "code",
      "metadata": {
        "colab": {
          "base_uri": "https://localhost:8080/",
          "height": 1382
        },
        "id": "syQ4CZICB9uE",
        "outputId": "bf8f8c7c-b05f-4bac-f7ed-59eadcdb97a2"
      },
      "source": [
        "for model in clas_models_dict:\n",
        "    logger.plot('Модель: ' + model, model, figsize=(7, 4))"
      ],
      "execution_count": 129,
      "outputs": [
        {
          "output_type": "display_data",
          "data": {
            "image/png": "[encoded data removed]",
            "text/plain": [
              "<Figure size 504x288 with 1 Axes>"
            ]
          },
          "metadata": {
            "tags": []
          }
        },
        {
          "output_type": "display_data",
          "data": {
            "image/png": "[encoded data removed]",
            "text/plain": [
              "<Figure size 504x288 with 1 Axes>"
            ]
          },
          "metadata": {
            "tags": []
          }
        },
        {
          "output_type": "display_data",
          "data": {
            "image/png": "[encoded data removed]",
            "text/plain": [
              "<Figure size 504x288 with 1 Axes>"
            ]
          },
          "metadata": {
            "tags": []
          }
        },
        {
          "output_type": "display_data",
          "data": {
            "image/png": "[encoded data removed]",
            "text/plain": [
              "<Figure size 504x288 with 1 Axes>"
            ]
          },
          "metadata": {
            "tags": []
          }
        },
        {
          "output_type": "display_data",
          "data": {
            "image/png": "[encoded data removed]",
            "text/plain": [
              "<Figure size 504x288 with 1 Axes>"
            ]
          },
          "metadata": {
            "tags": []
          }
        }
      ]
    },
    {
      "cell_type": "markdown",
      "metadata": {
        "id": "9-9kurKnC4bf"
      },
      "source": [
        "**Модель с использованием произвольной библиотеки AutoML**"
      ]
    },
    {
      "cell_type": "code",
      "metadata": {
        "id": "sew6p6lNC3BD"
      },
      "source": [
        "train = df.copy()"
      ],
      "execution_count": 131,
      "outputs": []
    },
    {
      "cell_type": "code",
      "metadata": {
        "id": "sRbxh_y1Tc5c"
      },
      "source": [
        "automl = AutoML()"
      ],
      "execution_count": 132,
      "outputs": []
    },
    {
      "cell_type": "code",
      "metadata": {
        "colab": {
          "base_uri": "https://localhost:8080/",
          "height": 0
        },
        "id": "NvbFnavgTD41",
        "outputId": "024ad618-01bb-4f87-ca4e-3933fe85944a"
      },
      "source": [
        "automl.fit(train[train.columns[:-1]], train['Type'])"
      ],
      "execution_count": 133,
      "outputs": [
        {
          "output_type": "stream",
          "text": [
            "AutoML directory: AutoML_1\n",
            "The task is multiclass_classification with evaluation metric logloss\n",
            "AutoML will use algorithms: ['Baseline', 'Linear', 'Decision Tree', 'Random Forest', 'Xgboost', 'Neural Network']\n",
            "AutoML will ensemble availabe models\n",
            "AutoML steps: ['simple_algorithms', 'default_algorithms', 'ensemble']\n",
            "* Step simple_algorithms will try to check up to 3 models\n",
            "1_Baseline logloss 1.791759 trained in 0.43 seconds\n",
            "2_DecisionTree logloss 0.465987 trained in 18.59 seconds\n",
            "3_Linear logloss 0.264818 trained in 9.79 seconds\n",
            "* Step default_algorithms will try to check up to 3 models\n",
            "4_Default_Xgboost logloss 0.043079 trained in 10.78 seconds\n",
            "5_Default_NeuralNetwork logloss 0.047636 trained in 1.13 seconds\n",
            "6_Default_RandomForest logloss 0.059842 trained in 11.98 seconds\n",
            "* Step ensemble will try to check up to 1 model\n",
            "Ensemble logloss 0.038086 trained in 0.41 seconds\n"
          ],
          "name": "stdout"
        },
        {
          "output_type": "stream",
          "text": [
            "/usr/local/lib/python3.7/dist-packages/scipy/stats/stats.py:4264: SpearmanRConstantInputWarning:\n",
            "\n",
            "An input array is constant; the correlation coefficent is not defined.\n",
            "\n"
          ],
          "name": "stderr"
        },
        {
          "output_type": "stream",
          "text": [
            "AutoML fit time: 65.93 seconds\n",
            "AutoML best model: Ensemble\n"
          ],
          "name": "stdout"
        },
        {
          "output_type": "execute_result",
          "data": {
            "text/plain": [
              "AutoML()"
            ]
          },
          "metadata": {
            "tags": []
          },
          "execution_count": 133
        }
      ]
    },
    {
      "cell_type": "code",
      "metadata": {
        "id": "llf7riSZT25a"
      },
      "source": [
        "automl2 = AutoML()"
      ],
      "execution_count": 134,
      "outputs": []
    },
    {
      "cell_type": "code",
      "metadata": {
        "colab": {
          "base_uri": "https://localhost:8080/",
          "height": 0
        },
        "id": "x6OA-CzgT8rc",
        "outputId": "e324c685-4a29-494a-ca42-cd81bff600fa"
      },
      "source": [
        "automl2.fit(data_cs31_scaled, df[\"Type\"])"
      ],
      "execution_count": 136,
      "outputs": [
        {
          "output_type": "stream",
          "text": [
            "AutoML directory: AutoML_2\n",
            "The task is multiclass_classification with evaluation metric logloss\n",
            "AutoML will use algorithms: ['Baseline', 'Linear', 'Decision Tree', 'Random Forest', 'Xgboost', 'Neural Network']\n",
            "AutoML will ensemble availabe models\n",
            "AutoML steps: ['simple_algorithms', 'default_algorithms', 'ensemble']\n",
            "* Step simple_algorithms will try to check up to 3 models\n",
            "1_Baseline logloss 1.791759 trained in 1.71 seconds\n",
            "2_DecisionTree logloss 0.465987 trained in 10.49 seconds\n",
            "3_Linear logloss 0.521298 trained in 9.77 seconds\n",
            "* Step default_algorithms will try to check up to 3 models\n",
            "4_Default_Xgboost logloss 0.043079 trained in 9.64 seconds\n",
            "5_Default_NeuralNetwork logloss 0.50295 trained in 1.16 seconds\n",
            "6_Default_RandomForest logloss 0.059842 trained in 11.96 seconds\n",
            "* Step ensemble will try to check up to 1 model\n",
            "Ensemble logloss 0.042112 trained in 0.38 seconds\n"
          ],
          "name": "stdout"
        },
        {
          "output_type": "stream",
          "text": [
            "/usr/local/lib/python3.7/dist-packages/scipy/stats/stats.py:4264: SpearmanRConstantInputWarning:\n",
            "\n",
            "An input array is constant; the correlation coefficent is not defined.\n",
            "\n"
          ],
          "name": "stderr"
        },
        {
          "output_type": "stream",
          "text": [
            "AutoML fit time: 57.3 seconds\n",
            "AutoML best model: Ensemble\n"
          ],
          "name": "stdout"
        },
        {
          "output_type": "execute_result",
          "data": {
            "text/plain": [
              "AutoML()"
            ]
          },
          "metadata": {
            "tags": []
          },
          "execution_count": 136
        }
      ]
    }
  ]
}
