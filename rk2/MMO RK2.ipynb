{
 "cells": [
  {
   "cell_type": "markdown",
   "id": "16f7ba3a-8baf-4372-a9e8-e514de10409f",
   "metadata": {},
   "source": [
    "# Рубежный контроль №2\n",
    "\n",
    "## Чичикин Т.Д. ИУ5-25М\n",
    "\n",
    "Решение задачи классификации текстов.\n",
    "Необходимо решить задачу классификации текстов на основе любого выбранного Вами датасета (кроме примера, который рассматривался в лекции). Классификация может быть бинарной или многоклассовой. Целевой признак из выбранного Вами датасета может иметь любой физический смысл, примером является задача анализа тональности текста.\n",
    "\n",
    "Необходимо сформировать два варианта векторизации признаков - на основе CountVectorizer и на основе TfidfVectorizer.\n",
    "\n",
    "В качестве классификаторов необходимо использовать два классификатора по варианту для Вашей группы:\n",
    "\n",
    "Группа\t|Классификатор №1|Классификатор №2\n",
    "---|---|---\n",
    "**ИУ5-25М**|**KNeighborsClassifier**|**Complement Naive Bayes (CNB)**\n",
    "\n",
    "Для каждого метода необходимо оценить качество классификации. Сделайте вывод о том, какой вариант векторизации признаков в паре с каким классификатором показал лучшее качество.\n"
   ]
  },
  {
   "cell_type": "code",
   "execution_count": 1,
   "id": "passive-slide",
   "metadata": {},
   "outputs": [],
   "source": [
    "import numpy as np\n",
    "import pandas as pd\n",
    "from typing import Dict, Tuple\n",
    "from scipy import stats\n",
    "from IPython.display import Image\n",
    "from sklearn.datasets import load_iris, load_boston\n",
    "from sklearn.feature_extraction.text import CountVectorizer, TfidfVectorizer\n",
    "from sklearn.model_selection import train_test_split\n",
    "from sklearn.neighbors import KNeighborsRegressor, KNeighborsClassifier\n",
    "from sklearn.linear_model import LogisticRegression\n",
    "from sklearn.model_selection import GridSearchCV, RandomizedSearchCV\n",
    "from sklearn.metrics import accuracy_score, balanced_accuracy_score\n",
    "from sklearn.metrics import precision_score, recall_score, f1_score, classification_report\n",
    "from sklearn.naive_bayes import ComplementNB\n",
    "from sklearn.metrics import confusion_matrix\n",
    "from sklearn.model_selection import cross_val_score\n",
    "from sklearn.pipeline import Pipeline\n",
    "from sklearn.metrics import mean_absolute_error, mean_squared_error, mean_squared_log_error, median_absolute_error, r2_score \n",
    "from sklearn.metrics import roc_curve, roc_auc_score\n",
    "from sklearn.svm import SVC, NuSVC, LinearSVC, OneClassSVM, SVR, NuSVR, LinearSVR\n",
    "import seaborn as sns\n",
    "import matplotlib.pyplot as plt\n",
    "%matplotlib inline \n",
    "sns.set(style=\"ticks\")"
   ]
  },
  {
   "cell_type": "code",
   "execution_count": 2,
   "id": "hungry-machine",
   "metadata": {},
   "outputs": [],
   "source": [
    "def accuracy_score_for_classes(\n",
    "    y_true: np.ndarray, \n",
    "    y_pred: np.ndarray) -> Dict[int, float]:\n",
    "    \"\"\"\n",
    "    Вычисление метрики accuracy для каждого класса\n",
    "    y_true - истинные значения классов\n",
    "    y_pred - предсказанные значения классов\n",
    "    Возвращает словарь: ключ - метка класса, \n",
    "    значение - Accuracy для данного класса\n",
    "    \"\"\"\n",
    "    # Для удобства фильтрации сформируем Pandas DataFrame \n",
    "    d = {'t': y_true, 'p': y_pred}\n",
    "    df = pd.DataFrame(data=d)\n",
    "    # Метки классов\n",
    "    classes = np.unique(y_true)\n",
    "    # Результирующий словарь\n",
    "    res = dict()\n",
    "    # Перебор меток классов\n",
    "    for c in classes:\n",
    "        # отфильтруем данные, которые соответствуют \n",
    "        # текущей метке класса в истинных значениях\n",
    "        temp_data_flt = df[df['t']==c]\n",
    "        # расчет accuracy для заданной метки класса\n",
    "        temp_acc = accuracy_score(\n",
    "            temp_data_flt['t'].values, \n",
    "            temp_data_flt['p'].values)\n",
    "        # сохранение результата в словарь\n",
    "        res[c] = temp_acc\n",
    "    return res\n",
    "\n",
    "def print_accuracy_score_for_classes(\n",
    "    y_true: np.ndarray, \n",
    "    y_pred: np.ndarray):\n",
    "    \"\"\"\n",
    "    Вывод метрики accuracy для каждого класса\n",
    "    \"\"\"\n",
    "    accs = accuracy_score_for_classes(y_true, y_pred)\n",
    "    if len(accs)>0:\n",
    "        print('Метка \\t Accuracy')\n",
    "    for i in accs:\n",
    "        print('{} \\t {}'.format(i, accs[i]))"
   ]
  },
  {
   "cell_type": "code",
   "execution_count": 3,
   "id": "foster-fighter",
   "metadata": {
    "scrolled": true
   },
   "outputs": [
    {
     "data": {
      "text/html": [
       "<div>\n",
       "<style scoped>\n",
       "    .dataframe tbody tr th:only-of-type {\n",
       "        vertical-align: middle;\n",
       "    }\n",
       "\n",
       "    .dataframe tbody tr th {\n",
       "        vertical-align: top;\n",
       "    }\n",
       "\n",
       "    .dataframe thead th {\n",
       "        text-align: right;\n",
       "    }\n",
       "</style>\n",
       "<table border=\"1\" class=\"dataframe\">\n",
       "  <thead>\n",
       "    <tr style=\"text-align: right;\">\n",
       "      <th></th>\n",
       "      <th>Review</th>\n",
       "      <th>Sentiment</th>\n",
       "    </tr>\n",
       "  </thead>\n",
       "  <tbody>\n",
       "    <tr>\n",
       "      <th>0</th>\n",
       "      <td>Kurt Russell's chameleon-like performance, cou...</td>\n",
       "      <td>1</td>\n",
       "    </tr>\n",
       "    <tr>\n",
       "      <th>1</th>\n",
       "      <td>It was extremely low budget(it some scenes it ...</td>\n",
       "      <td>1</td>\n",
       "    </tr>\n",
       "    <tr>\n",
       "      <th>2</th>\n",
       "      <td>James Cagney is best known for his tough chara...</td>\n",
       "      <td>1</td>\n",
       "    </tr>\n",
       "    <tr>\n",
       "      <th>3</th>\n",
       "      <td>Following the brilliant \"Goyôkiba\" (aka. \"Hanz...</td>\n",
       "      <td>1</td>\n",
       "    </tr>\n",
       "    <tr>\n",
       "      <th>4</th>\n",
       "      <td>One of the last classics of the French New Wav...</td>\n",
       "      <td>1</td>\n",
       "    </tr>\n",
       "    <tr>\n",
       "      <th>5</th>\n",
       "      <td>Having just watched this film again from a 199...</td>\n",
       "      <td>1</td>\n",
       "    </tr>\n",
       "    <tr>\n",
       "      <th>6</th>\n",
       "      <td>The Straight Story is a truly beautiful movie ...</td>\n",
       "      <td>1</td>\n",
       "    </tr>\n",
       "    <tr>\n",
       "      <th>7</th>\n",
       "      <td>Four teenage girlfriends drive to Fort Laurdal...</td>\n",
       "      <td>1</td>\n",
       "    </tr>\n",
       "    <tr>\n",
       "      <th>8</th>\n",
       "      <td>I haven't seen all of Jess Franco's movies, I ...</td>\n",
       "      <td>1</td>\n",
       "    </tr>\n",
       "    <tr>\n",
       "      <th>9</th>\n",
       "      <td>What's in a name? If the name is Jerry Bruckhe...</td>\n",
       "      <td>1</td>\n",
       "    </tr>\n",
       "    <tr>\n",
       "      <th>10</th>\n",
       "      <td>Batman: Mystery of the Batwoman is the latest ...</td>\n",
       "      <td>1</td>\n",
       "    </tr>\n",
       "    <tr>\n",
       "      <th>11</th>\n",
       "      <td>I have to say that Higher Learning is one of t...</td>\n",
       "      <td>1</td>\n",
       "    </tr>\n",
       "    <tr>\n",
       "      <th>12</th>\n",
       "      <td>In all honesty, this series is as much a class...</td>\n",
       "      <td>1</td>\n",
       "    </tr>\n",
       "    <tr>\n",
       "      <th>13</th>\n",
       "      <td>This movie is actually FUNNY! If you'd like to...</td>\n",
       "      <td>1</td>\n",
       "    </tr>\n",
       "    <tr>\n",
       "      <th>14</th>\n",
       "      <td>What does the Marquis de Sade have to do with ...</td>\n",
       "      <td>1</td>\n",
       "    </tr>\n",
       "  </tbody>\n",
       "</table>\n",
       "</div>"
      ],
      "text/plain": [
       "                                               Review  Sentiment\n",
       "0   Kurt Russell's chameleon-like performance, cou...          1\n",
       "1   It was extremely low budget(it some scenes it ...          1\n",
       "2   James Cagney is best known for his tough chara...          1\n",
       "3   Following the brilliant \"Goyôkiba\" (aka. \"Hanz...          1\n",
       "4   One of the last classics of the French New Wav...          1\n",
       "5   Having just watched this film again from a 199...          1\n",
       "6   The Straight Story is a truly beautiful movie ...          1\n",
       "7   Four teenage girlfriends drive to Fort Laurdal...          1\n",
       "8   I haven't seen all of Jess Franco's movies, I ...          1\n",
       "9   What's in a name? If the name is Jerry Bruckhe...          1\n",
       "10  Batman: Mystery of the Batwoman is the latest ...          1\n",
       "11  I have to say that Higher Learning is one of t...          1\n",
       "12  In all honesty, this series is as much a class...          1\n",
       "13  This movie is actually FUNNY! If you'd like to...          1\n",
       "14  What does the Marquis de Sade have to do with ...          1"
      ]
     },
     "execution_count": 3,
     "metadata": {},
     "output_type": "execute_result"
    }
   ],
   "source": [
    "# Загрузка данных\n",
    "df = pd.read_csv('D:\\\\Ботва\\\\Магистратура\\\\2сем\\\\ММО\\\\РК2\\\\Лосева\\\\imdb_sup.csv')\n",
    "text_df=df.head(500).append(df.tail(500))\n",
    "text_df.drop('Rating', axis=1, inplace=True)\n",
    "text_df.head(15)"
   ]
  },
  {
   "cell_type": "markdown",
   "id": "classified-screening",
   "metadata": {},
   "source": [
    "Изначально датасет содержит 50000 строк, что для выполнения нашей задачи слишком много. Так что сделаем из него датасет по-меньше"
   ]
  },
  {
   "cell_type": "code",
   "execution_count": 4,
   "id": "acoustic-appointment",
   "metadata": {},
   "outputs": [
    {
     "data": {
      "text/plain": [
       "(1000, 2)"
      ]
     },
     "execution_count": 4,
     "metadata": {},
     "output_type": "execute_result"
    }
   ],
   "source": [
    "text_df.shape"
   ]
  },
  {
   "cell_type": "code",
   "execution_count": 5,
   "id": "abandoned-course",
   "metadata": {},
   "outputs": [
    {
     "data": {
      "text/plain": [
       "array([1, 0], dtype=int64)"
      ]
     },
     "execution_count": 5,
     "metadata": {},
     "output_type": "execute_result"
    }
   ],
   "source": [
    "text_df['Sentiment'].unique()"
   ]
  },
  {
   "cell_type": "markdown",
   "id": "intellectual-proportion",
   "metadata": {},
   "source": [
    "Наш целевой признак - столбец Sentiment, который имеет всего 2 значения: 1 - если комментарий о фильме был положительным и 0 - если комментарий о фильме был отрицательным"
   ]
  },
  {
   "cell_type": "code",
   "execution_count": 6,
   "id": "primary-orientation",
   "metadata": {},
   "outputs": [
    {
     "data": {
      "text/plain": [
       "[\"It was extremely low budget(it some scenes it looks like they recorded with a home video recorder). However it does have a good plot line, and its easy to follow. 8 years after shooting her sexually abusive step father Amanda is released from the psychiatric ward, with the help of her doctor who she is secretly having an affair with. The doctor ends up renting her a house and buying her a car. But within the first 20 minutes of the movie Amanda kills him and buries him in her backyard. Then she see's her neighbor Richard sets eyes on him and stops at nothing until she has him. She acts innocent but after another neighbor Buzz finds out that Amanda killed that doctor and attempted to kill Richards wife Laurie (this is after Amanda and him get it on in the hot tub). Then she stops acting so Innocent and kills Buzz and later on attempts to kill Richard whom she supposedly loves and cares for. And you'll have to rent the movie to find out if Amanda dies or not. Overall good movie, reminds me a lot of my life you know the whole falling for the neighbor and stopping at nothing until you have him part.\",\n",
       " 'James Cagney is best known for his tough characters- and gangster roles but he has also played quite a lot \\'soft\\' characters in his career. This musical is one of them and it was the first but not the last musical movie Cagney would star in.<br /><br />Cagney is even doing a bit of singing in this one and also quite an amount of dancing. And it needs to be said that he was not bad at it. He plays the role with a lot of confidence. He apparently had some dancing jobs in his early life before his acting career started to take off big time, so it actually isn\\'t a weird thing that he also took on some musical acting roles in his career. He obviously also feels at ease in this totally different genre than most people are accustomed to seeing him in.<br /><br />The movie is directed by Lloyd Bacon, who was perhaps among the best and most successful director within the genre. His earliest \\'30\\'s musicals pretty much defined the musical genre and he also was responsible for genre movies such as \"42nd Street\". His musicals were always light and fun to watch and more comedy like than anything else really. \\'30\\'s musicals never were really about its singing, this was something that more featured in \\'40\\'s and later made musicals, mainly from the MGM studios.<br /><br />As usual it has a light and simple story, set in the musical world, that of course is also predictable and progresses in a formulaic way. It nevertheless is a fun and simple story that also simply makes this an entertaining movies to watch. So do the characters and actors that are portraying them. Sort of weird though that that the total plot line of the movie gets sort of abandoned toward the end of the movie, when the movie only starts to consists out of musical number routines.<br /><br />The musical moments toward the ending of the movie are also amusing and well done, even though I\\'m not a too big fan of the genre itself. Once again the musical numbers also feature a young Billy Barty. he often played little boys/babies/mice and whatever more early on in his career, including the movie musical \"Gold Diggers of 1933\", of one year earlier. <br /><br />A recommendable early genre movie.<br /><br />8/10',\n",
       " 'Following the brilliant \"Goyôkiba\" (aka. \"Hanzo The Razor - Sword Of Justice\", 1972) and its excellent (and even sleazier) sequel \"Goyôkiba: Kamisori Hanzô jigoku zeme\" (aka. \"Razor 2: The Snare\", 1973), this \"Goyôkiba: Oni no Hanzô yawahada koban\" aka. \"Razor 3: Who\\'s Got The Gold\" is the third, and sadly final installment to the awesome saga about the incorruptible Samurai-constable Hanzo \\'The Razor\\' Ittami (brilliantly played by the great Shintarô Katsu), who fights corruption with his fighting expertise as well as his enormous sexual powers. As a big fan of 70s exploitation cinema made in Nippon, \"Sword Of Justice\" became an instant favorite of mine, and I was therefore more than eager to find the sequels, and full of anticipation when I finally stumbled over them recently. While this third \"Hanzo\" film is just not quite as brilliant as its predecessors it is definitely another great piece of cult-cinema that no lover of Japanese exploitation cinema can afford to miss. \"Who\\'s Got The Gold\" is a bit tamer than the two foregoing Hanzo films, but it is just as brilliantly comical and crudely humorous, and immediately starts out fabulously odd: The film begins, when Hanzo\\'s two assistants see a female ghost when fishing. Having always wanted to sleep with a ghost, Hanzo insists that his assistants lead him to the site of the occurrence... If that is not a promising beginning for an awesome film experience, I don\\'t know what is. Shintaro Katsu, one of my personal favorite actors, is once again brilliant in the role of Hanzo, a role that seems to have been written specifically for him. Katsu IS Hanzo, the obstinate and fearless constable, who hates corruption and deliberately insults his superiors, and whose unique interrogation techniques include raping female suspects. The interrogated women than immediately fall for him, due to his sexual powers and enormous penis, which he trains in a rather grotesque routine ritual. I will not give away more about the plot in \"Who\\'s Got The Gold\", but I can assure that it is as cool as it sounds. The supporting performances are also very good, and, as in the predecessors, there are plenty of hilariously eccentric characters. This is sadly the last film in the awesomely sleazy \\'Hanzo\\' series. If they had made 20 sequels more, I would have happily watched them all! The entire Hanzo series is brilliant, and while this third part is a bit inferior compared to its predecessors, it is definitely a must-see for all lovers of cult-cinema! Oh how I wish they had made more sequels!',\n",
       " 'One of the last classics of the French New Wave. For direction, cineaste Jean Eustache drew from the simplicity of early-century cinema; for story, Eustache drew on the torments of his own complicated love life. So many things can be said of this film - observationally brilliant; self indulgently overlong; occasionally hilarious; emotionally draining...etc. etc. In my mind, whatever complaints that can be leveled against this film are easily overshadowed by its numerous strengths. Every film student, writer, or simply anyone willing to handle a 3 hour film with no abrupt cuts, no music video overstyling, no soap opera-like plot twists, and no banal dialogue should make it a point to see this movie. Everything is to be admired: the writing (concise, clever, surprisingly funny), acting (everyone, quite simply, is perfect in their respective roles), and, simple direction (the viewer feels like a casual observer within the film) make this film unforgettable. This is undoubtedly a film that stays with you.',\n",
       " 'Having just watched this film again from a 1998 showing off VH-1, I just had to comment.<br /><br />The first time I saw this film on TV, it was about 1981, and I remember taping it off of my mother\\'s betamax. It wound up taping in black and white for some reason, which gave it a period look that I grew to like.<br /><br />I remember very distinctively the film beginning with the song, \"My Bonnie\", as the camera panned over a scene of Liverpool. I also remember the opening scene where Paul gestures to some girls and says, \"Look, talent!\" So it was with great irritation that I popped in my 1998 taped version and \"remembered\" that the film opens with \"She Loves You\", instead of \"My Bonnie\". When you see how slowly the camera pans vs. the speed of the music, you can see that \"She Loves You\" just doesn\\'t fit. Also, in this \"later\" version when Paul sees the girls, he says, \"Look, GIRLS!\"..and somehow having remembered the earlier version, THAT word just didn\\'t seem to fit, either. Why they felt they had to Americanize this film for American audiences is beyond me. Personally, if I\\'m going to watch a film about a British band, I want all of the British colloquialisms and such that would be a part of their speech, mannerisms, etc.<br /><br />Another irritation was how \"choppy\" the editing was for television. Just after Stu gets beaten, for example, the film cuts to a commercial break-LOTS of \\'em. Yeah, I know it depends on the network, but it really ruins the effect of a film to have it sliced apart, as we all know. What some people might find as insignificant in terms of dialogue (and thereby okay to edit), may actually go the way of explaining a particular action or scene that follows.<br /><br />My point is, the \"best\" version of this film was probably the earlier version I taped from 1981, which just so happened to include the \"Shake, Rattle & Roll\" scene that my 1998 version didn\\'t. I started to surmise that there had to have been two different versions made for television, and a look at the \"alternate versions\" link regarding this film proved me right. That the American version had some shorter/cut/different scenes and/or dialogue is a huge disappointment to me and something worth mentioning if one cares about such things. Imo, ones best bet is to try and get a hold of the European version of this film, if possible, and (probably even less possible), an unedited version. Sadly, I had to discard my old betamax European version because I didn\\'t know how to convert it.<br /><br />All that aside, I found this film to be, perhaps, one of the best films regarding the story behind the \"birth of the Beatles\". Being well aware that artistic and creative license is often used in movies and TV when portraying events in history, I didn\\'t let any discrepancies mar my enjoyment of the film. Sure, you see the Beatles perform songs at the Cavern that made me wonder, \"Did they even write that back then?? I don\\'t think so\", but, nevertheless, I thought it was a great film and the performances, wonderful.<br /><br />The real stand-out for me, in fact, was the actor who played John, Stephen MacKenna. I just about fell in love with him. His look, mannerisms, personality and speaking voice seemed to be spot-on. He looked enough like a young John for me to do a double-take towards the end of the film when you see the Beatles performing on Ed Sullivan for the first time. I actually found myself questioning whether or not it was actual Beatle footage, until I saw the other actors in the scene.<br /><br />If you\\'re looking for a dead accurate history of The Beatles\\' life and beginnings, you can\\'t get any better than, \"The Beatles\\' Anthology\", as it was \"written\" by the boys\\', themselves. However, if you\\'re looking for a fun snapshot of their pre-Beatlemania days leading up to their arrival in America and you leave your anal critical assessments at the door, you can\\'t go wrong with the \"Birth of the Beatles\"--a MUST for any \"real\" or casual Beatle fan.',\n",
       " 'The Straight Story is a truly beautiful movie about an elderly man named Alvin Straight, who rides his lawnmower across the country to visit his estranged, dying brother. But that\\'s just the basic synapsis...this movie is about so much more than that. This was Richard\\'s Farnworth\\'s last role before he died, and it\\'s definitely one that he will be remembered for. He\\'s a stubborn old man, not unlike a lot of the old men that you and I probably know. <br /><br />\"The Straight Story\" is a movie that everyone should watch at least once in their lives. It will reach down and touch some part of you, at least if you have a heart, it will.',\n",
       " 'Four teenage girlfriends drive to Fort Laurdale for spring break.Unfortunately they get a flat tire in Medley,Georgia and one of the girls witnesses a brutal murder deep in the woods.The local sheriff is behind the crime and the nightmare begins...\"Shallow Grave\" is a pleasant low-budget surprise.The cast is likable enough,the direction is steady and the violence is particularly nasty and misogynistic.Especially the second murder is pretty grim.The murderous sheriff isn\\'t one-dimensional character-in a couple of scenes it seems that he feels remorse for what he\\'s done.The subplot involving the two boys they meet in the diner goes nowhere,but the stalking scenes in the woods are tense and exciting.7 out of 10.',\n",
       " 'I haven\\'t seen all of Jess Franco\\'s movies, I have seen 5, I think, and there are more than 180 of them. So maybe it\\'s a bit early to say so but \"Necronomicon Geträumte Sünden\" (better known as \\'Succubus\\', but that is the cut version) is according to me if not the best, certainly on of Franco\\'s best. Franco is best known (although \\'known\\' might be slightly exaggerated) for \"Vampiros Lesbos\", a weird cultish movie that got more acclaim in the mid 90\\'s when people found out Jess Franco was also an interesting composer. Through the soundtrack a happy few discovered the man and found out what was to be expected after seeing the video clip of \\'The lion and the cucumber\\' (\\'Vampyros Lesbos OST\\'): Jess Franco is an overwhelming director. When the phone rang during \\'Vampiros\\', I let it ring. I just wanted to see more of the movie. Since that moment Franco never could grip me that much. But then I stumbled on this movie. It is even better than \"Vampiros Lesbos\", I think. Franco is looking for what he can do with a story and a camera. We find out he can do a lot. I certainly didn\\'t expect to find \"Necronomicon\" that great: its beginning didn\\'t impress me at all. Remember, I had seen \"Vampiros Lesbos\" before (although chronologically that came only three years later) and both movies kinda start the same. But then the story went on, puzzling and gripping, beautiful camera work and the stuff you would like to see Godard do if he weren\\'t so occupied with spreading his political messages. Later on in the movie I heard a dialogue about which art was or wasn\\'t old-fashioned. The man says that all movies have to be old-fashioned because it takes weeks before the audience sees what got filmed. But the girl replies that \"Bunuel, Fritz Lang and Godard yesterday made movies for tomorrow\". Janine Reynaud is an interesting lead actress and of course Howard Vernon, a Franco regular, is also there. Luckily the acting is good (something that can spoil a lot of Franco movies for you, but not this one). But certainly watch out for the dummy scene. The erotic tension, the wild directing and the fact that it\\'s a yesterday\\'s movie for tomorrow make it a movie a lot of people should see. The fact that it is a bit more accessible than \"Vampiros Lesbos\" certainly helps.',\n",
       " \"What's in a name? If the name is Jerry Bruckheimer expect it to be filled with action.<br /><br />In producer Bruckheimer's latest film, Gone in 60 Seconds, its all about the nomenclature. With character monikers like Kip, Sway and The Sphinx and cars idealized with names like Diane, Sue and the elusive Eleanor, it's only the non-stop action that keeps you from wanting to just play the name game.<br /><br />Not a deep script by any means, but it is a great vehicle for action as Nicolas Cage as Memphis Raines, along with Angelina Jolie and Robert Duvall, comes out of car-thievery retirement to save his brother's life by stealing a list of 50 exotic cars in one night. A remake of the 1974 cult hit, this film may not be destined for the same cult status but it is entertaining.<br /><br />Surprisingly, it's the action that keeps you watching not the acting. Although loaded with stars, none of them have standout performances, including a very weak performance by one of my favorite up and comers, Giovanni Ribisi. Even Jolie, coming off her recent Oscar win, is just a token love interest with hardly any screen time.<br /><br />Can a series of beautiful cars and the car chases they become involved in make a great film? I think so. The film is a pleasure to look at and although one particular scene takes you into the realm of unbelieveablity, the action is non-stop and the suspense is compelling. Just be wary of other drivers fighting for a pole position as you leave the theatre.<br /><br />3 1/2 out of 5\"]"
      ]
     },
     "execution_count": 6,
     "metadata": {},
     "output_type": "execute_result"
    }
   ],
   "source": [
    "# Сформируем общий словарь для обучения моделей из обучающей и тестовой выборки\n",
    "vocab_list = text_df['Review'].tolist()\n",
    "vocab_list[1:10]"
   ]
  },
  {
   "cell_type": "code",
   "execution_count": 7,
   "id": "sharing-union",
   "metadata": {},
   "outputs": [
    {
     "name": "stdout",
     "output_type": "stream",
     "text": [
      "Количество сформированных признаков - 17896\n"
     ]
    }
   ],
   "source": [
    "vocabVect = CountVectorizer()\n",
    "vocabVect.fit(vocab_list)\n",
    "corpusVocab = vocabVect.vocabulary_\n",
    "print('Количество сформированных признаков - {}'.format(len(corpusVocab)))"
   ]
  },
  {
   "cell_type": "code",
   "execution_count": 8,
   "id": "spare-significance",
   "metadata": {},
   "outputs": [
    {
     "name": "stdout",
     "output_type": "stream",
     "text": [
      "kurt=9020\n",
      "russell=13645\n",
      "chameleon=2717\n",
      "like=9354\n",
      "performance=11707\n",
      "coupled=3693\n",
      "with=17607\n",
      "john=8666\n",
      "carpenter=2536\n",
      "flawless=6190\n"
     ]
    }
   ],
   "source": [
    "for i in list(corpusVocab)[0:10]:\n",
    "    print('{}={}'.format(i, corpusVocab[i]))"
   ]
  },
  {
   "cell_type": "markdown",
   "id": "beneficial-measure",
   "metadata": {},
   "source": [
    "# Векторизация признаков на основе CountVectorizer\n",
    "Подсчитывает количество слов словаря, входящих в данный текст"
   ]
  },
  {
   "cell_type": "code",
   "execution_count": 9,
   "id": "introductory-level",
   "metadata": {},
   "outputs": [],
   "source": [
    "test_features = vocabVect.transform(vocab_list)"
   ]
  },
  {
   "cell_type": "code",
   "execution_count": 10,
   "id": "educated-sweden",
   "metadata": {},
   "outputs": [
    {
     "data": {
      "text/plain": [
       "<1000x17896 sparse matrix of type '<class 'numpy.int64'>'\n",
       "\twith 137926 stored elements in Compressed Sparse Row format>"
      ]
     },
     "execution_count": 10,
     "metadata": {},
     "output_type": "execute_result"
    }
   ],
   "source": [
    "test_features"
   ]
  },
  {
   "cell_type": "code",
   "execution_count": 11,
   "id": "secondary-white",
   "metadata": {},
   "outputs": [
    {
     "data": {
      "text/plain": [
       "matrix([[0, 0, 0, ..., 0, 0, 0],\n",
       "        [0, 0, 0, ..., 0, 0, 0],\n",
       "        [0, 0, 0, ..., 0, 0, 0],\n",
       "        ...,\n",
       "        [0, 0, 0, ..., 0, 0, 0],\n",
       "        [0, 0, 0, ..., 0, 0, 0],\n",
       "        [0, 0, 0, ..., 0, 0, 0]], dtype=int64)"
      ]
     },
     "execution_count": 11,
     "metadata": {},
     "output_type": "execute_result"
    }
   ],
   "source": [
    "test_features.todense()"
   ]
  },
  {
   "cell_type": "code",
   "execution_count": 12,
   "id": "preceding-reserve",
   "metadata": {},
   "outputs": [
    {
     "data": {
      "text/plain": [
       "17896"
      ]
     },
     "execution_count": 12,
     "metadata": {},
     "output_type": "execute_result"
    }
   ],
   "source": [
    "# Размер нулевой строки\n",
    "len(test_features.todense()[0].getA1())"
   ]
  },
  {
   "cell_type": "code",
   "execution_count": 13,
   "id": "matched-framing",
   "metadata": {},
   "outputs": [
    {
     "data": {
      "text/plain": [
       "[1,\n",
       " 1,\n",
       " 1,\n",
       " 3,\n",
       " 1,\n",
       " 1,\n",
       " 1,\n",
       " 1,\n",
       " 1,\n",
       " 1,\n",
       " 1,\n",
       " 1,\n",
       " 2,\n",
       " 1,\n",
       " 1,\n",
       " 1,\n",
       " 2,\n",
       " 1,\n",
       " 1,\n",
       " 1,\n",
       " 1,\n",
       " 1,\n",
       " 1,\n",
       " 1,\n",
       " 2,\n",
       " 1,\n",
       " 1,\n",
       " 1,\n",
       " 1,\n",
       " 1,\n",
       " 1,\n",
       " 4,\n",
       " 1,\n",
       " 1,\n",
       " 1,\n",
       " 2,\n",
       " 1,\n",
       " 1,\n",
       " 1,\n",
       " 1,\n",
       " 1,\n",
       " 1,\n",
       " 1,\n",
       " 1,\n",
       " 1,\n",
       " 1,\n",
       " 1,\n",
       " 1,\n",
       " 1,\n",
       " 7,\n",
       " 4,\n",
       " 1,\n",
       " 1,\n",
       " 1,\n",
       " 1,\n",
       " 1,\n",
       " 1,\n",
       " 1,\n",
       " 1,\n",
       " 1,\n",
       " 1,\n",
       " 1,\n",
       " 1,\n",
       " 1,\n",
       " 1,\n",
       " 1,\n",
       " 2,\n",
       " 8,\n",
       " 2,\n",
       " 1,\n",
       " 1,\n",
       " 1,\n",
       " 1,\n",
       " 1,\n",
       " 1,\n",
       " 1,\n",
       " 1,\n",
       " 1,\n",
       " 1,\n",
       " 1,\n",
       " 1]"
      ]
     },
     "execution_count": 13,
     "metadata": {},
     "output_type": "execute_result"
    }
   ],
   "source": [
    "# Непустые значения нулевой строки\n",
    "[i for i in test_features.todense()[0].getA1() if i>0]"
   ]
  },
  {
   "cell_type": "markdown",
   "id": "painful-pioneer",
   "metadata": {},
   "source": [
    "# Векторизация признаков на основе TfidfVectorizer\n",
    "Вычисляет специфичность текста в корпусе текстов на основе метрики TF-IDF"
   ]
  },
  {
   "cell_type": "code",
   "execution_count": 14,
   "id": "bearing-young",
   "metadata": {},
   "outputs": [
    {
     "data": {
      "text/plain": [
       "<1000x138585 sparse matrix of type '<class 'numpy.float64'>'\n",
       "\twith 351280 stored elements in Compressed Sparse Row format>"
      ]
     },
     "execution_count": 14,
     "metadata": {},
     "output_type": "execute_result"
    }
   ],
   "source": [
    "tfidfv = TfidfVectorizer(ngram_range=(1,2))\n",
    "tfidf_ngram_features = tfidfv.fit_transform(vocab_list)\n",
    "tfidf_ngram_features"
   ]
  },
  {
   "cell_type": "code",
   "execution_count": 15,
   "id": "continuing-merchant",
   "metadata": {},
   "outputs": [
    {
     "data": {
      "text/plain": [
       "matrix([[0., 0., 0., ..., 0., 0., 0.],\n",
       "        [0., 0., 0., ..., 0., 0., 0.],\n",
       "        [0., 0., 0., ..., 0., 0., 0.],\n",
       "        ...,\n",
       "        [0., 0., 0., ..., 0., 0., 0.],\n",
       "        [0., 0., 0., ..., 0., 0., 0.],\n",
       "        [0., 0., 0., ..., 0., 0., 0.]])"
      ]
     },
     "execution_count": 15,
     "metadata": {},
     "output_type": "execute_result"
    }
   ],
   "source": [
    "tfidf_ngram_features.todense()"
   ]
  },
  {
   "cell_type": "markdown",
   "id": "julian-clothing",
   "metadata": {},
   "source": [
    "# Оценка качества классификации"
   ]
  },
  {
   "cell_type": "code",
   "execution_count": 16,
   "id": "subsequent-compact",
   "metadata": {},
   "outputs": [],
   "source": [
    "def VectorizeAndClassify(vectorizers_list, classifiers_list):\n",
    "    for v in vectorizers_list:\n",
    "        for c in classifiers_list:\n",
    "            pipeline1 = Pipeline([(\"vectorizer\", v), (\"classifier\", c)])\n",
    "            score = cross_val_score(pipeline1, text_df['Review'], text_df['Sentiment'], scoring='accuracy', cv=3).mean()\n",
    "            print('Векторизация - {}'.format(v))\n",
    "            print('Модель для классификации - {}'.format(c))\n",
    "            print('Accuracy = {}'.format(score))\n",
    "            print('===========================')"
   ]
  },
  {
   "cell_type": "code",
   "execution_count": 17,
   "id": "declared-depression",
   "metadata": {},
   "outputs": [
    {
     "name": "stdout",
     "output_type": "stream",
     "text": [
      "Векторизация - CountVectorizer(vocabulary={'00': 0, '000': 1, '0069': 2, '007': 3, '01': 4,\n",
      "                            '06th': 5, '08': 6, '0f': 7, '10': 8, '100': 9,\n",
      "                            '100th': 10, '101': 11, '102': 12, '10th': 13,\n",
      "                            '11': 14, '112': 15, '11th': 16, '12': 17, '13': 18,\n",
      "                            '13th': 19, '14': 20, '14th': 21, '15': 22,\n",
      "                            '150': 23, '16': 24, '1600s': 25, '16éme': 26,\n",
      "                            '17': 27, '1710': 28, '18': 29, ...})\n",
      "Модель для классификации - ComplementNB()\n",
      "Accuracy = 0.7990115864367362\n",
      "===========================\n",
      "Векторизация - CountVectorizer(vocabulary={'00': 0, '000': 1, '0069': 2, '007': 3, '01': 4,\n",
      "                            '06th': 5, '08': 6, '0f': 7, '10': 8, '100': 9,\n",
      "                            '100th': 10, '101': 11, '102': 12, '10th': 13,\n",
      "                            '11': 14, '112': 15, '11th': 16, '12': 17, '13': 18,\n",
      "                            '13th': 19, '14': 20, '14th': 21, '15': 22,\n",
      "                            '150': 23, '16': 24, '1600s': 25, '16éme': 26,\n",
      "                            '17': 27, '1710': 28, '18': 29, ...})\n",
      "Модель для классификации - KNeighborsClassifier()\n",
      "Accuracy = 0.5879771987556419\n",
      "===========================\n",
      "Векторизация - TfidfVectorizer(vocabulary={'00': 0, '000': 1, '0069': 2, '007': 3, '01': 4,\n",
      "                            '06th': 5, '08': 6, '0f': 7, '10': 8, '100': 9,\n",
      "                            '100th': 10, '101': 11, '102': 12, '10th': 13,\n",
      "                            '11': 14, '112': 15, '11th': 16, '12': 17, '13': 18,\n",
      "                            '13th': 19, '14': 20, '14th': 21, '15': 22,\n",
      "                            '150': 23, '16': 24, '1600s': 25, '16éme': 26,\n",
      "                            '17': 27, '1710': 28, '18': 29, ...})\n",
      "Модель для классификации - ComplementNB()\n",
      "Accuracy = 0.7889925853997711\n",
      "===========================\n",
      "Векторизация - TfidfVectorizer(vocabulary={'00': 0, '000': 1, '0069': 2, '007': 3, '01': 4,\n",
      "                            '06th': 5, '08': 6, '0f': 7, '10': 8, '100': 9,\n",
      "                            '100th': 10, '101': 11, '102': 12, '10th': 13,\n",
      "                            '11': 14, '112': 15, '11th': 16, '12': 17, '13': 18,\n",
      "                            '13th': 19, '14': 20, '14th': 21, '15': 22,\n",
      "                            '150': 23, '16': 24, '1600s': 25, '16éme': 26,\n",
      "                            '17': 27, '1710': 28, '18': 29, ...})\n",
      "Модель для классификации - KNeighborsClassifier()\n",
      "Accuracy = 0.6530182877488268\n",
      "===========================\n"
     ]
    }
   ],
   "source": [
    "vectorizers_list = [CountVectorizer(vocabulary = corpusVocab), TfidfVectorizer(vocabulary = corpusVocab)]\n",
    "classifiers_list = [ComplementNB(), KNeighborsClassifier()]\n",
    "VectorizeAndClassify(vectorizers_list, classifiers_list)"
   ]
  },
  {
   "cell_type": "markdown",
   "id": "removable-helicopter",
   "metadata": {},
   "source": [
    "Наибольшая точность получилась при использовании CountVectorizer и ComplementNB()"
   ]
  }
 ],
 "metadata": {
  "kernelspec": {
   "display_name": "Python 3 (ipykernel)",
   "language": "python",
   "name": "python3"
  },
  "language_info": {
   "codemirror_mode": {
    "name": "ipython",
    "version": 3
   },
   "file_extension": ".py",
   "mimetype": "text/x-python",
   "name": "python",
   "nbconvert_exporter": "python",
   "pygments_lexer": "ipython3",
   "version": "3.10.12"
  }
 },
 "nbformat": 4,
 "nbformat_minor": 5
}
